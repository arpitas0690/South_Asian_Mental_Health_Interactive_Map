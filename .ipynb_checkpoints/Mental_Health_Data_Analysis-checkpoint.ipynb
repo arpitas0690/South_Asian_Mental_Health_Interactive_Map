{
 "cells": [
  {
   "cell_type": "code",
   "execution_count": 1,
   "id": "eac2950a-37ca-4415-81b5-4eccad9fcb1d",
   "metadata": {},
   "outputs": [
    {
     "name": "stdout",
     "output_type": "stream",
     "text": [
      "Requirement already satisfied: pandas in c:\\users\\arpitas\\appdata\\local\\anaconda3\\lib\\site-packages (2.2.2)\n",
      "Requirement already satisfied: numpy in c:\\users\\arpitas\\appdata\\local\\anaconda3\\lib\\site-packages (1.26.4)\n",
      "Requirement already satisfied: python-dateutil>=2.8.2 in c:\\users\\arpitas\\appdata\\local\\anaconda3\\lib\\site-packages (from pandas) (2.9.0.post0)\n",
      "Requirement already satisfied: pytz>=2020.1 in c:\\users\\arpitas\\appdata\\local\\anaconda3\\lib\\site-packages (from pandas) (2024.1)\n",
      "Requirement already satisfied: tzdata>=2022.7 in c:\\users\\arpitas\\appdata\\local\\anaconda3\\lib\\site-packages (from pandas) (2023.3)\n",
      "Requirement already satisfied: six>=1.5 in c:\\users\\arpitas\\appdata\\local\\anaconda3\\lib\\site-packages (from python-dateutil>=2.8.2->pandas) (1.16.0)\n"
     ]
    }
   ],
   "source": [
    "#import dependencies\n",
    "import pandas as pd\n",
    "import geopandas as gpd\n",
    "from shapely.geometry import Point\n",
    "!pip install pandas numpy"
   ]
  },
  {
   "cell_type": "code",
   "execution_count": 2,
   "id": "1201bbc3-6414-4a0f-86b8-39a9f972f325",
   "metadata": {},
   "outputs": [],
   "source": [
    "#This is the file I am reading in for my analysis. \n",
    "mental_health_csv = \"./Resources/Conference and map Aishath Shahama Full PhD Study June 2022 to Dec 2023.csv\"\n",
    "country_csv = \"./Resources/country_long_lat_data.csv\""
   ]
  },
  {
   "cell_type": "code",
   "execution_count": 7,
   "id": "c9f6bb26-51dc-4751-8c0e-3a19e159e973",
   "metadata": {},
   "outputs": [],
   "source": [
    "#Pulling in the data here\n",
    "mental_health_df = pd.read_csv(mental_health_csv)\n",
    "country_df = pd.read_csv(country_csv)"
   ]
  },
  {
   "cell_type": "code",
   "execution_count": 9,
   "id": "24a9446b-7c19-4093-90e8-db1fd3b6adb0",
   "metadata": {},
   "outputs": [
    {
     "data": {
      "text/html": [
       "<div>\n",
       "<style scoped>\n",
       "    .dataframe tbody tr th:only-of-type {\n",
       "        vertical-align: middle;\n",
       "    }\n",
       "\n",
       "    .dataframe tbody tr th {\n",
       "        vertical-align: top;\n",
       "    }\n",
       "\n",
       "    .dataframe thead th {\n",
       "        text-align: right;\n",
       "    }\n",
       "</style>\n",
       "<table border=\"1\" class=\"dataframe\">\n",
       "  <thead>\n",
       "    <tr style=\"text-align: right;\">\n",
       "      <th></th>\n",
       "      <th>Religious Affliation</th>\n",
       "      <th>South Asian Heritage</th>\n",
       "      <th>Cause of Mental Health problems</th>\n",
       "      <th>Treatability</th>\n",
       "      <th>Treatments</th>\n",
       "      <th>Experience or Wittnessed stigma</th>\n",
       "      <th>Incident Description</th>\n",
       "    </tr>\n",
       "  </thead>\n",
       "  <tbody>\n",
       "    <tr>\n",
       "      <th>0</th>\n",
       "      <td>Islam</td>\n",
       "      <td>Maldives</td>\n",
       "      <td>Lifestyle and genetics.</td>\n",
       "      <td>No</td>\n",
       "      <td>They can be brought under control but not cured.</td>\n",
       "      <td>Experienced</td>\n",
       "      <td>Was told to go off antidepressants because dep...</td>\n",
       "    </tr>\n",
       "    <tr>\n",
       "      <th>1</th>\n",
       "      <td>NaN</td>\n",
       "      <td>Maldives</td>\n",
       "      <td>Genetics and mentality</td>\n",
       "      <td>No</td>\n",
       "      <td>NaN</td>\n",
       "      <td>Experienced</td>\n",
       "      <td>Annoying in time</td>\n",
       "    </tr>\n",
       "    <tr>\n",
       "      <th>2</th>\n",
       "      <td>Hindhu</td>\n",
       "      <td>India</td>\n",
       "      <td>Genetics</td>\n",
       "      <td>No</td>\n",
       "      <td>It's something you are born with</td>\n",
       "      <td>Experienced</td>\n",
       "      <td>NaN</td>\n",
       "    </tr>\n",
       "    <tr>\n",
       "      <th>3</th>\n",
       "      <td>Islam</td>\n",
       "      <td>Maldives</td>\n",
       "      <td>Genetics, environment and trauma</td>\n",
       "      <td>Yes</td>\n",
       "      <td>With medication, therapy and a lot of will power</td>\n",
       "      <td>Experienced</td>\n",
       "      <td>Yes</td>\n",
       "    </tr>\n",
       "    <tr>\n",
       "      <th>4</th>\n",
       "      <td>Islam</td>\n",
       "      <td>Maldives</td>\n",
       "      <td>Stress and uncertainty</td>\n",
       "      <td>Yes</td>\n",
       "      <td>Psychoherapy and psychopharmaceuticals</td>\n",
       "      <td>Experienced</td>\n",
       "      <td>When saying I am going to consult a Psychologi...</td>\n",
       "    </tr>\n",
       "  </tbody>\n",
       "</table>\n",
       "</div>"
      ],
      "text/plain": [
       "  Religious Affliation South Asian Heritage   Cause of Mental Health problems  \\\n",
       "0                Islam             Maldives           Lifestyle and genetics.   \n",
       "1                  NaN             Maldives            Genetics and mentality   \n",
       "2               Hindhu                India                          Genetics   \n",
       "3                Islam             Maldives  Genetics, environment and trauma   \n",
       "4                Islam             Maldives            Stress and uncertainty   \n",
       "\n",
       "  Treatability                                        Treatments  \\\n",
       "0           No  They can be brought under control but not cured.   \n",
       "1           No                                               NaN   \n",
       "2           No                  It's something you are born with   \n",
       "3          Yes  With medication, therapy and a lot of will power   \n",
       "4          Yes            Psychoherapy and psychopharmaceuticals   \n",
       "\n",
       "  Experience or Wittnessed stigma  \\\n",
       "0                     Experienced   \n",
       "1                     Experienced   \n",
       "2                     Experienced   \n",
       "3                     Experienced   \n",
       "4                     Experienced   \n",
       "\n",
       "                                Incident Description  \n",
       "0  Was told to go off antidepressants because dep...  \n",
       "1                                   Annoying in time  \n",
       "2                                                NaN  \n",
       "3                                                Yes  \n",
       "4  When saying I am going to consult a Psychologi...  "
      ]
     },
     "execution_count": 9,
     "metadata": {},
     "output_type": "execute_result"
    }
   ],
   "source": [
    "mental_health_df.head()"
   ]
  },
  {
   "cell_type": "code",
   "execution_count": 11,
   "id": "86a992ba-aa58-4fc0-a5c9-1af80713e641",
   "metadata": {},
   "outputs": [
    {
     "data": {
      "text/plain": [
       "Index(['Religious Affliation', 'South Asian Heritage',\n",
       "       'Cause of Mental Health problems', 'Treatability', 'Treatments',\n",
       "       'Experience or Wittnessed stigma', 'Incident Description'],\n",
       "      dtype='object')"
      ]
     },
     "execution_count": 11,
     "metadata": {},
     "output_type": "execute_result"
    }
   ],
   "source": [
    "mental_health_df.columns"
   ]
  },
  {
   "cell_type": "code",
   "execution_count": 13,
   "id": "702564ac-ffa3-4fc5-8e2f-ae85a95e30c4",
   "metadata": {},
   "outputs": [
    {
     "data": {
      "text/plain": [
       "Religious Affliation               509\n",
       "South Asian Heritage               523\n",
       "Cause of Mental Health problems    494\n",
       "Treatability                       523\n",
       "Treatments                         407\n",
       "Experience or Wittnessed stigma    521\n",
       "Incident Description               192\n",
       "dtype: int64"
      ]
     },
     "execution_count": 13,
     "metadata": {},
     "output_type": "execute_result"
    }
   ],
   "source": [
    "mental_health_df.count()"
   ]
  },
  {
   "cell_type": "code",
   "execution_count": 17,
   "id": "cb31e333-43ce-4bcf-b4fc-c0511854a9cc",
   "metadata": {},
   "outputs": [
    {
     "data": {
      "text/html": [
       "<div>\n",
       "<style scoped>\n",
       "    .dataframe tbody tr th:only-of-type {\n",
       "        vertical-align: middle;\n",
       "    }\n",
       "\n",
       "    .dataframe tbody tr th {\n",
       "        vertical-align: top;\n",
       "    }\n",
       "\n",
       "    .dataframe thead th {\n",
       "        text-align: right;\n",
       "    }\n",
       "</style>\n",
       "<table border=\"1\" class=\"dataframe\">\n",
       "  <thead>\n",
       "    <tr style=\"text-align: right;\">\n",
       "      <th></th>\n",
       "      <th>Religious Affliation</th>\n",
       "      <th>South Asian Heritage</th>\n",
       "      <th>Cause of Mental Health problems</th>\n",
       "      <th>Treatability</th>\n",
       "      <th>Treatments</th>\n",
       "      <th>Experience or Wittnessed stigma</th>\n",
       "      <th>Incident Description</th>\n",
       "    </tr>\n",
       "  </thead>\n",
       "  <tbody>\n",
       "    <tr>\n",
       "      <th>0</th>\n",
       "      <td>Islam</td>\n",
       "      <td>Maldives</td>\n",
       "      <td>Lifestyle and genetics.</td>\n",
       "      <td>No</td>\n",
       "      <td>They can be brought under control but not cured.</td>\n",
       "      <td>Experienced</td>\n",
       "      <td>Was told to go off antidepressants because dep...</td>\n",
       "    </tr>\n",
       "    <tr>\n",
       "      <th>1</th>\n",
       "      <td>NaN</td>\n",
       "      <td>Maldives</td>\n",
       "      <td>Genetics and mentality</td>\n",
       "      <td>No</td>\n",
       "      <td>NaN</td>\n",
       "      <td>Experienced</td>\n",
       "      <td>Annoying in time</td>\n",
       "    </tr>\n",
       "    <tr>\n",
       "      <th>2</th>\n",
       "      <td>Hindhu</td>\n",
       "      <td>India</td>\n",
       "      <td>Genetics</td>\n",
       "      <td>No</td>\n",
       "      <td>It's something you are born with</td>\n",
       "      <td>Experienced</td>\n",
       "      <td>NaN</td>\n",
       "    </tr>\n",
       "    <tr>\n",
       "      <th>3</th>\n",
       "      <td>Islam</td>\n",
       "      <td>Maldives</td>\n",
       "      <td>Genetics, environment and trauma</td>\n",
       "      <td>Yes</td>\n",
       "      <td>With medication, therapy and a lot of will power</td>\n",
       "      <td>Experienced</td>\n",
       "      <td>Yes</td>\n",
       "    </tr>\n",
       "    <tr>\n",
       "      <th>4</th>\n",
       "      <td>Islam</td>\n",
       "      <td>Maldives</td>\n",
       "      <td>Stress and uncertainty</td>\n",
       "      <td>Yes</td>\n",
       "      <td>Psychoherapy and psychopharmaceuticals</td>\n",
       "      <td>Experienced</td>\n",
       "      <td>When saying I am going to consult a Psychologi...</td>\n",
       "    </tr>\n",
       "  </tbody>\n",
       "</table>\n",
       "</div>"
      ],
      "text/plain": [
       "  Religious Affliation South Asian Heritage   Cause of Mental Health problems  \\\n",
       "0                Islam             Maldives           Lifestyle and genetics.   \n",
       "1                  NaN             Maldives            Genetics and mentality   \n",
       "2               Hindhu                India                          Genetics   \n",
       "3                Islam             Maldives  Genetics, environment and trauma   \n",
       "4                Islam             Maldives            Stress and uncertainty   \n",
       "\n",
       "  Treatability                                        Treatments  \\\n",
       "0           No  They can be brought under control but not cured.   \n",
       "1           No                                               NaN   \n",
       "2           No                  It's something you are born with   \n",
       "3          Yes  With medication, therapy and a lot of will power   \n",
       "4          Yes            Psychoherapy and psychopharmaceuticals   \n",
       "\n",
       "  Experience or Wittnessed stigma  \\\n",
       "0                     Experienced   \n",
       "1                     Experienced   \n",
       "2                     Experienced   \n",
       "3                     Experienced   \n",
       "4                     Experienced   \n",
       "\n",
       "                                Incident Description  \n",
       "0  Was told to go off antidepressants because dep...  \n",
       "1                                   Annoying in time  \n",
       "2                                                NaN  \n",
       "3                                                Yes  \n",
       "4  When saying I am going to consult a Psychologi...  "
      ]
     },
     "execution_count": 17,
     "metadata": {},
     "output_type": "execute_result"
    }
   ],
   "source": [
    "mental_health_df.head()"
   ]
  },
  {
   "cell_type": "code",
   "execution_count": 21,
   "id": "386a7480-b84e-465d-95b6-6d6c602f2f94",
   "metadata": {},
   "outputs": [
    {
     "data": {
      "text/plain": [
       "array(['Maldives', 'India', 'Pakistan', 'Nepal', 'Bangladesh',\n",
       "       'Afghanistan', 'Sri Lanka'], dtype=object)"
      ]
     },
     "execution_count": 21,
     "metadata": {},
     "output_type": "execute_result"
    }
   ],
   "source": [
    "#What were the responses to this question? \n",
    "mental_health_df['South Asian Heritage'].unique()"
   ]
  },
  {
   "cell_type": "code",
   "execution_count": 11,
   "id": "bad1bdfe-ca1e-4755-a6cc-2b3ab880d372",
   "metadata": {},
   "outputs": [
    {
     "name": "stderr",
     "output_type": "stream",
     "text": [
      "C:\\Users\\arpitas\\AppData\\Local\\Temp\\ipykernel_31416\\2498913622.py:3: SettingWithCopyWarning: \n",
      "A value is trying to be set on a copy of a slice from a DataFrame.\n",
      "Try using .loc[row_indexer,col_indexer] = value instead\n",
      "\n",
      "See the caveats in the documentation: https://pandas.pydata.org/pandas-docs/stable/user_guide/indexing.html#returning-a-view-versus-a-copy\n",
      "  mental_health_selected_df['What is your nationality?'] = mental_health_selected_df['What is your nationality?'].replace({'maldivian': 'Maldivian',\n"
     ]
    },
    {
     "data": {
      "text/plain": [
       "array(['Maldivian', 'British - Maldivian', 'Indian', 'British',\n",
       "       'Sri Lankan', 'U.S.', 'American', 'INDIA', 'Bangladeshi',\n",
       "       'british', 'Malidivian', 'Nepal', 'Pakistani/Irish', 'India',\n",
       "       'Hindu', 'hindu', 'indian', 'INDIAN', 'Hindustani', 'Canadian',\n",
       "       'Indian American', 'british asian', 'Italian', 'Pakistani',\n",
       "       'Bangladesh', 'Nepali', 'Nepalese', 'bangladeshi', 'pakistani',\n",
       "       'Pakistan', 'pakistan', 'لاہور', 'Muslim'], dtype=object)"
      ]
     },
     "execution_count": 11,
     "metadata": {},
     "output_type": "execute_result"
    }
   ],
   "source": [
    "# Clean up Nationality category. Make text consistent for nationality\n",
    "#Doing this to Maldives:\n",
    "mental_health_selected_df['What is your nationality?'] = mental_health_selected_df['What is your nationality?'].replace({'maldivian': 'Maldivian', \n",
    "                                                                                                                         'Maldives': 'Maldivian',\n",
    "                                                                                                                        'maldives': 'Maldivian',\n",
    "                                                                                                                        'MALDIVIAN': 'Maldivian'})\n",
    "mental_health_selected_df['What is your nationality?'].unique()"
   ]
  },
  {
   "cell_type": "code",
   "execution_count": 12,
   "id": "c48b48f9-70a4-4916-b185-e17315431f99",
   "metadata": {},
   "outputs": [
    {
     "name": "stderr",
     "output_type": "stream",
     "text": [
      "C:\\Users\\arpitas\\AppData\\Local\\Temp\\ipykernel_31416\\987332262.py:2: SettingWithCopyWarning: \n",
      "A value is trying to be set on a copy of a slice from a DataFrame.\n",
      "Try using .loc[row_indexer,col_indexer] = value instead\n",
      "\n",
      "See the caveats in the documentation: https://pandas.pydata.org/pandas-docs/stable/user_guide/indexing.html#returning-a-view-versus-a-copy\n",
      "  mental_health_selected_df['What is your nationality?'] = mental_health_selected_df['What is your nationality?'].replace({'british': 'British',\n"
     ]
    },
    {
     "data": {
      "text/plain": [
       "array(['Maldivian', 'British', 'Indian', 'Sri Lankan', 'U.S.', 'American',\n",
       "       'INDIA', 'Bangladeshi', 'Malidivian', 'Nepal', 'Pakistani/Irish',\n",
       "       'India', 'Hindu', 'hindu', 'indian', 'INDIAN', 'Hindustani',\n",
       "       'Canadian', 'Indian American', 'Italian', 'Pakistani',\n",
       "       'Bangladesh', 'Nepali', 'Nepalese', 'bangladeshi', 'pakistani',\n",
       "       'Pakistan', 'pakistan', 'لاہور', 'Muslim'], dtype=object)"
      ]
     },
     "execution_count": 12,
     "metadata": {},
     "output_type": "execute_result"
    }
   ],
   "source": [
    "#Doing this to British:\n",
    "mental_health_selected_df['What is your nationality?'] = mental_health_selected_df['What is your nationality?'].replace({'british': 'British', \n",
    "                                                                                                                         'British - Maldivian': 'British',\n",
    "                                                                                                                        'british asian': 'British'})\n",
    "mental_health_selected_df['What is your nationality?'].unique()"
   ]
  },
  {
   "cell_type": "code",
   "execution_count": 13,
   "id": "6e546164-1ca2-4149-b535-4c590f4c9313",
   "metadata": {},
   "outputs": [
    {
     "name": "stderr",
     "output_type": "stream",
     "text": [
      "C:\\Users\\arpitas\\AppData\\Local\\Temp\\ipykernel_31416\\1666028998.py:2: SettingWithCopyWarning: \n",
      "A value is trying to be set on a copy of a slice from a DataFrame.\n",
      "Try using .loc[row_indexer,col_indexer] = value instead\n",
      "\n",
      "See the caveats in the documentation: https://pandas.pydata.org/pandas-docs/stable/user_guide/indexing.html#returning-a-view-versus-a-copy\n",
      "  mental_health_selected_df['What is your nationality?'] = mental_health_selected_df['What is your nationality?'].replace({'INDIA': 'Indian',\n"
     ]
    },
    {
     "data": {
      "text/plain": [
       "array(['Maldivian', 'British', 'Indian', 'Sri Lankan', 'U.S.', 'American',\n",
       "       'Bangladeshi', 'Malidivian', 'Nepal', 'Pakistani/Irish',\n",
       "       'Canadian', 'Indian American', 'Italian', 'Pakistani',\n",
       "       'Bangladesh', 'Nepali', 'Nepalese', 'bangladeshi', 'pakistani',\n",
       "       'Pakistan', 'pakistan', 'لاہور', 'Muslim'], dtype=object)"
      ]
     },
     "execution_count": 13,
     "metadata": {},
     "output_type": "execute_result"
    }
   ],
   "source": [
    "#Doing this to British:\n",
    "mental_health_selected_df['What is your nationality?'] = mental_health_selected_df['What is your nationality?'].replace({'INDIA': 'Indian', \n",
    "                                                                                                                         'India': 'Indian',\n",
    "                                                                                                                        'Hindu': 'Indian',\n",
    "                                                                                                                        'hindu': 'Indian',\n",
    "                                                                                                                        'INDIAN': 'Indian',\n",
    "                                                                                                                        'indian': 'Indian',\n",
    "                                                                                                                        'Hindustani': 'Indian'})\n",
    "mental_health_selected_df['What is your nationality?'].unique()"
   ]
  },
  {
   "cell_type": "code",
   "execution_count": 14,
   "id": "8007e4b8-241a-4696-9e25-75c8da2b12f7",
   "metadata": {},
   "outputs": [
    {
     "name": "stderr",
     "output_type": "stream",
     "text": [
      "C:\\Users\\arpitas\\AppData\\Local\\Temp\\ipykernel_31416\\1568063978.py:2: SettingWithCopyWarning: \n",
      "A value is trying to be set on a copy of a slice from a DataFrame.\n",
      "Try using .loc[row_indexer,col_indexer] = value instead\n",
      "\n",
      "See the caveats in the documentation: https://pandas.pydata.org/pandas-docs/stable/user_guide/indexing.html#returning-a-view-versus-a-copy\n",
      "  mental_health_selected_df['What is your nationality?'] = mental_health_selected_df['What is your nationality?'].replace({'Pakistan': 'Pakistani',\n"
     ]
    },
    {
     "data": {
      "text/plain": [
       "array(['Maldivian', 'British', 'Indian', 'Sri Lankan', 'U.S.', 'American',\n",
       "       'Bangladeshi', 'Malidivian', 'Nepal', 'Pakistani/Irish',\n",
       "       'Canadian', 'Indian American', 'Italian', 'Pakistani',\n",
       "       'Bangladesh', 'Nepali', 'Nepalese', 'bangladeshi', 'لاہور',\n",
       "       'Muslim'], dtype=object)"
      ]
     },
     "execution_count": 14,
     "metadata": {},
     "output_type": "execute_result"
    }
   ],
   "source": [
    "#Doing Pakistani here\n",
    "mental_health_selected_df['What is your nationality?'] = mental_health_selected_df['What is your nationality?'].replace({'Pakistan': 'Pakistani', \n",
    "                                                                                                                         'pakistan': 'Pakistani',\n",
    "                                                                                                                        'pakistani': 'Pakistani'})\n",
    "mental_health_selected_df['What is your nationality?'].unique()\n"
   ]
  },
  {
   "cell_type": "code",
   "execution_count": 15,
   "id": "0a3cb043-485c-4bd0-97d9-f9c0313418c1",
   "metadata": {},
   "outputs": [
    {
     "name": "stderr",
     "output_type": "stream",
     "text": [
      "C:\\Users\\arpitas\\AppData\\Local\\Temp\\ipykernel_31416\\4111578356.py:2: SettingWithCopyWarning: \n",
      "A value is trying to be set on a copy of a slice from a DataFrame.\n",
      "Try using .loc[row_indexer,col_indexer] = value instead\n",
      "\n",
      "See the caveats in the documentation: https://pandas.pydata.org/pandas-docs/stable/user_guide/indexing.html#returning-a-view-versus-a-copy\n",
      "  mental_health_selected_df['What is your nationality?'] = mental_health_selected_df['What is your nationality?'].replace({'U.S.': 'American',\n"
     ]
    },
    {
     "data": {
      "text/plain": [
       "array(['Maldivian', 'British', 'Indian', 'Sri Lankan', 'American',\n",
       "       'Bangladeshi', 'Malidivian', 'Nepal', 'Pakistani/Irish',\n",
       "       'Canadian', 'Italian', 'Pakistani', 'Bangladesh', 'Nepali',\n",
       "       'Nepalese', 'bangladeshi', 'لاہور', 'Muslim'], dtype=object)"
      ]
     },
     "execution_count": 15,
     "metadata": {},
     "output_type": "execute_result"
    }
   ],
   "source": [
    "#Doing Pakistani here\n",
    "mental_health_selected_df['What is your nationality?'] = mental_health_selected_df['What is your nationality?'].replace({'U.S.': 'American', \n",
    "                                                                                                                         'Indian American': 'American'})\n",
    "                                                                                        \n",
    "mental_health_selected_df['What is your nationality?'].unique()"
   ]
  },
  {
   "cell_type": "code",
   "execution_count": 16,
   "id": "a7a0d77b-c85c-464f-a4a4-d48e290d582f",
   "metadata": {},
   "outputs": [
    {
     "name": "stderr",
     "output_type": "stream",
     "text": [
      "C:\\Users\\arpitas\\AppData\\Local\\Temp\\ipykernel_31416\\2603142518.py:2: SettingWithCopyWarning: \n",
      "A value is trying to be set on a copy of a slice from a DataFrame.\n",
      "Try using .loc[row_indexer,col_indexer] = value instead\n",
      "\n",
      "See the caveats in the documentation: https://pandas.pydata.org/pandas-docs/stable/user_guide/indexing.html#returning-a-view-versus-a-copy\n",
      "  mental_health_selected_df['What is your nationality?'] = mental_health_selected_df['What is your nationality?'].replace({'Nepal': 'Nepali',\n"
     ]
    },
    {
     "data": {
      "text/plain": [
       "array(['Maldivian', 'British', 'Indian', 'Sri Lankan', 'American',\n",
       "       'Bangladeshi', 'Malidivian', 'Nepali', 'Pakistani/Irish',\n",
       "       'Canadian', 'Italian', 'Pakistani', 'Bangladesh', 'bangladeshi',\n",
       "       'لاہور', 'Muslim'], dtype=object)"
      ]
     },
     "execution_count": 16,
     "metadata": {},
     "output_type": "execute_result"
    }
   ],
   "source": [
    "#Doing Nepali here\n",
    "mental_health_selected_df['What is your nationality?'] = mental_health_selected_df['What is your nationality?'].replace({'Nepal': 'Nepali', \n",
    "                                                                                                                         'Nepalese': 'Nepali'})\n",
    "                                                                                        \n",
    "mental_health_selected_df['What is your nationality?'].unique()"
   ]
  },
  {
   "cell_type": "code",
   "execution_count": 17,
   "id": "a86abff2-f8ef-4fcc-b17d-7154d1b63336",
   "metadata": {},
   "outputs": [
    {
     "name": "stderr",
     "output_type": "stream",
     "text": [
      "C:\\Users\\arpitas\\AppData\\Local\\Temp\\ipykernel_31416\\2372930763.py:2: SettingWithCopyWarning: \n",
      "A value is trying to be set on a copy of a slice from a DataFrame.\n",
      "Try using .loc[row_indexer,col_indexer] = value instead\n",
      "\n",
      "See the caveats in the documentation: https://pandas.pydata.org/pandas-docs/stable/user_guide/indexing.html#returning-a-view-versus-a-copy\n",
      "  mental_health_selected_df['What is your nationality?'] = mental_health_selected_df['What is your nationality?'].replace({'Bangladesh': 'Bangladeshi',\n"
     ]
    },
    {
     "data": {
      "text/plain": [
       "array(['Maldivian', 'British', 'Indian', 'Sri Lankan', 'American',\n",
       "       'Bangladeshi', 'Malidivian', 'Nepali', 'Pakistani/Irish',\n",
       "       'Canadian', 'Italian', 'Pakistani', 'لاہور', 'Muslim'],\n",
       "      dtype=object)"
      ]
     },
     "execution_count": 17,
     "metadata": {},
     "output_type": "execute_result"
    }
   ],
   "source": [
    "#Doing Nepali here\n",
    "mental_health_selected_df['What is your nationality?'] = mental_health_selected_df['What is your nationality?'].replace({'Bangladesh': 'Bangladeshi', \n",
    "                                                                                                                         'bangladeshi': 'Bangladeshi'})\n",
    "                                                                                        \n",
    "mental_health_selected_df['What is your nationality?'].unique()"
   ]
  },
  {
   "cell_type": "code",
   "execution_count": 22,
   "id": "5a410c88-2513-4719-a546-0a98c0cbac4d",
   "metadata": {},
   "outputs": [
    {
     "name": "stderr",
     "output_type": "stream",
     "text": [
      "C:\\Users\\arpitas\\AppData\\Local\\Temp\\ipykernel_31416\\4285642904.py:8: SettingWithCopyWarning: \n",
      "A value is trying to be set on a copy of a slice from a DataFrame.\n",
      "Try using .loc[row_indexer,col_indexer] = value instead\n",
      "\n",
      "See the caveats in the documentation: https://pandas.pydata.org/pandas-docs/stable/user_guide/indexing.html#returning-a-view-versus-a-copy\n",
      "  mental_health_selected_df['What is your nationality?'] = mental_health_selected_df['What is your nationality?'].replace({'لاہور': 'Pakistani',\n"
     ]
    },
    {
     "data": {
      "text/plain": [
       "array(['Maldivian', 'British', 'Indian', 'Sri Lankan', 'American',\n",
       "       'Bangladeshi', 'Malidivian', 'Nepali', 'Pakistani', 'Canadian',\n",
       "       'Italian', 'Muslim'], dtype=object)"
      ]
     },
     "execution_count": 22,
     "metadata": {},
     "output_type": "execute_result"
    }
   ],
   "source": [
    "#Okay, looks good, not sure what to do with the one in arabic or the cases with Muslim here, let's count them. \n",
    "#We will leave this and confirm with Shahmsha before doing any further edits on this. \n",
    "#I think we should stick with the South Asian heritage, this will probably be more reflective, checking now. \n",
    "\n",
    "#This needs a lot of data cleaning, \n",
    "#Ask S. about Scotland, 'Visakhapatnam', 'Lhaviyani', 'Kaaf' - set to Maldives for testing \n",
    "                                                                                                        \n",
    "mental_health_selected_df['What is your nationality?'] = mental_health_selected_df['What is your nationality?'].replace({'لاہور': 'Pakistani',\n",
    "                                                                                                                        'Pakistani/Irish': 'Pakistani'})\n",
    "\n",
    "mental_health_selected_df['What is your nationality?'].unique()\n"
   ]
  },
  {
   "cell_type": "code",
   "execution_count": 24,
   "id": "e9719276-e63c-40dc-8dec-0b48196faf37",
   "metadata": {},
   "outputs": [
    {
     "data": {
      "text/plain": [
       "array(['Maldivian', 'Maldives', 'India', 'Indian',\n",
       "       'No clue. Most probably indian', 'maldives', 'Southern Asia',\n",
       "       'Bangladesh', \"Don't know\", 'Sri Lanka', 'Afghanistan',\n",
       "       'Maldivies', 'pakistani and indian', 'Maldivian?', 'Asian',\n",
       "       'Not sure! India, sinhalese and Arab?', 'Indian/Lankan/Tamil',\n",
       "       'South east asian', 'Ahmedabad', 'SOUTH INDIA', 'Southwest',\n",
       "       'South East Asian', 'Sri Lankan', 'Southeast asia', 'INDO ARYAN',\n",
       "       'Bengali', 'No idea', 'Thaimaru', 'indian', 'Aisa', 'African',\n",
       "       'Bengali [ mix of East and West Bengal]', 'Nepal', 'Brown?',\n",
       "       'South east asia', 'Asia', 'Dont know', 'South', 'Maldives?',\n",
       "       'maldivian', 'Pakistan', 'Dravidian', 'Bengali and The Maldives',\n",
       "       'Mattanchery Palace, Ernakulam, Kerala',\n",
       "       'South Indian- Mappila Community', 'Delhi , India', 'Maharashtra',\n",
       "       'Gujarati', 'Gujarat ,. India',\n",
       "       'Land of Sardar Vallabh bhai Patel', 'Bangladeshi', 'Sinhalese',\n",
       "       'bengali', 'Buddhist', 'South India', 'North indian', 'god knows',\n",
       "       'Andhra', 'Indian heritage', 'India, West Bengal', 'Na', nan,\n",
       "       'South Indian, Malayali Heritage', 'Bengali-Bihari',\n",
       "       'Hindu - Brahmin', 'Indian ( Gujarati )', 'sindhi', 'INDIA',\n",
       "       'Dravidan', 'India, Maharashtra', 'Indian/Bengali',\n",
       "       'Kerela, India.', 'Sindhi', 'Malayali', 'Himachal Pradesh region',\n",
       "       'India, Madhya Pradesh', 'Uttar Pradesh', 'Hindoo', 'Vedic',\n",
       "       'Indo aryans', 'Haryana', 'Bengal', '-', 'Punjab', 'Indo-Aryan',\n",
       "       'I’m not sure', 'South Indian', 'Pakistan, India', 'Pakistani',\n",
       "       'Andhra Pradesh', 'Hinduism', 'Tamil nadu', 'Indo gangetic plains',\n",
       "       '....', 'South Asia', 'West', 'Bengalee', 'Bangali', 'BD',\n",
       "       'Muslim', 'Chettri', '.', 'Banglai',\n",
       "       'Nepali heritage belonging to Brahmin ethnic group', 'Nepali',\n",
       "       'Arya', 'South Indian - Dravidian - Telugu People', 'Mauritius',\n",
       "       'sub continent', 'punjab', 'Canada', 'Punjabi', 'pakistan',\n",
       "       'Mughal', 'Kashmir', '...', 'Jutt', 'Civilization',\n",
       "       'Natural heritage', 'No where', 'Lahore', 'south asian',\n",
       "       'Chaudary', 'Rajpoot', 'Nothing', 'Lahore pakistan',\n",
       "       'Cultural Values and based in Old Works', 'No', 'South asian',\n",
       "       'Study', 'Saudia', 'Urdu speaking', 'Sub continent', 'Nope', 'Non',\n",
       "       'Mirza', 'Rajput', '.....', '18 july 17 August',\n",
       "       '18 july to 17 august', 'Subcontinent', 'Panjabi', \"I don't know\",\n",
       "       'Pashtun', 'Pattoki', 'Kpk', 'لاہور', 'August', \"I don't know.\",\n",
       "       'Srilanka'], dtype=object)"
      ]
     },
     "execution_count": 24,
     "metadata": {},
     "output_type": "execute_result"
    }
   ],
   "source": [
    "mental_health_selected_df['Which South Asian heritage do you come from?'].unique()"
   ]
  },
  {
   "cell_type": "code",
   "execution_count": 26,
   "id": "7bc4c2a7-2205-4e2e-b399-0a5fc9c11689",
   "metadata": {},
   "outputs": [
    {
     "data": {
      "text/plain": [
       "Which South Asian heritage do you come from?\n",
       "Pakistan        82\n",
       "Maldives        71\n",
       "India           68\n",
       "Indian          39\n",
       "Maldivian       30\n",
       "                ..\n",
       "North indian     1\n",
       "Buddhist         1\n",
       "bengali          1\n",
       "Sinhalese        1\n",
       "Srilanka         1\n",
       "Name: count, Length: 149, dtype: int64"
      ]
     },
     "execution_count": 26,
     "metadata": {},
     "output_type": "execute_result"
    }
   ],
   "source": [
    "mental_health_selected_df['Which South Asian heritage do you come from?'].value_counts()\n",
    "#These values are everywhere, need to ask Shahmsha about whether we should drop the ones that say \"I don't know\", or are very vague. "
   ]
  },
  {
   "cell_type": "code",
   "execution_count": 28,
   "id": "223efecb-fd89-4483-a6e9-50becefe6bd3",
   "metadata": {},
   "outputs": [
    {
     "data": {
      "text/html": [
       "<div>\n",
       "<style scoped>\n",
       "    .dataframe tbody tr th:only-of-type {\n",
       "        vertical-align: middle;\n",
       "    }\n",
       "\n",
       "    .dataframe tbody tr th {\n",
       "        vertical-align: top;\n",
       "    }\n",
       "\n",
       "    .dataframe thead th {\n",
       "        text-align: right;\n",
       "    }\n",
       "</style>\n",
       "<table border=\"1\" class=\"dataframe\">\n",
       "  <thead>\n",
       "    <tr style=\"text-align: right;\">\n",
       "      <th></th>\n",
       "      <th>Nationality</th>\n",
       "      <th>Which South Asian heritage do you come from?</th>\n",
       "      <th>Country of residence</th>\n",
       "      <th>Formal Diagnosis</th>\n",
       "      <th>In your opinion, do you believe mental health conditions can be treated?-Yes</th>\n",
       "      <th>In your opinion, do you believe mental health conditions can be treated?-No</th>\n",
       "      <th>Have you ever experienced or witnessed stigma against person or people with a mental health condition? If you so could you please describe the incident. - Experienced</th>\n",
       "      <th>Have you ever experienced or witnessed stigma against person or people with a mental health condition? If you so could you please describe the incident. - Witnessed</th>\n",
       "    </tr>\n",
       "  </thead>\n",
       "  <tbody>\n",
       "    <tr>\n",
       "      <th>0</th>\n",
       "      <td>Maldivian</td>\n",
       "      <td>Maldivian</td>\n",
       "      <td>United Kingdom</td>\n",
       "      <td>NaN</td>\n",
       "      <td>Yes, medical treatment, therapy</td>\n",
       "      <td>NaN</td>\n",
       "      <td>NaN</td>\n",
       "      <td>NaN</td>\n",
       "    </tr>\n",
       "    <tr>\n",
       "      <th>1</th>\n",
       "      <td>British</td>\n",
       "      <td>Maldivian</td>\n",
       "      <td>UK</td>\n",
       "      <td>NaN</td>\n",
       "      <td>Proper guidance from people around you. Afford...</td>\n",
       "      <td>NaN</td>\n",
       "      <td>NaN</td>\n",
       "      <td>NaN</td>\n",
       "    </tr>\n",
       "    <tr>\n",
       "      <th>2</th>\n",
       "      <td>Maldivian</td>\n",
       "      <td>Maldives</td>\n",
       "      <td>Maldives</td>\n",
       "      <td>NaN</td>\n",
       "      <td>Therapies and medications</td>\n",
       "      <td>NaN</td>\n",
       "      <td>NaN</td>\n",
       "      <td>Have seen relatives with mental health conditi...</td>\n",
       "    </tr>\n",
       "    <tr>\n",
       "      <th>3</th>\n",
       "      <td>Maldivian</td>\n",
       "      <td>Maldives</td>\n",
       "      <td>England</td>\n",
       "      <td>GAD, panic disorder, clinical depression</td>\n",
       "      <td>NaN</td>\n",
       "      <td>They can be brought under control but not cured.</td>\n",
       "      <td>Was told to go off antidepressants because dep...</td>\n",
       "      <td>NaN</td>\n",
       "    </tr>\n",
       "    <tr>\n",
       "      <th>4</th>\n",
       "      <td>Maldivian</td>\n",
       "      <td>Maldivian</td>\n",
       "      <td>Maldives</td>\n",
       "      <td>C-PTSD</td>\n",
       "      <td>Appropriate behavioural therapy</td>\n",
       "      <td>NaN</td>\n",
       "      <td>Accused of seeking attention / exaggeration</td>\n",
       "      <td>NaN</td>\n",
       "    </tr>\n",
       "  </tbody>\n",
       "</table>\n",
       "</div>"
      ],
      "text/plain": [
       "  Nationality Which South Asian heritage do you come from?  \\\n",
       "0   Maldivian                                    Maldivian   \n",
       "1     British                                    Maldivian   \n",
       "2   Maldivian                                     Maldives   \n",
       "3   Maldivian                                     Maldives   \n",
       "4   Maldivian                                    Maldivian   \n",
       "\n",
       "  Country of residence                          Formal Diagnosis  \\\n",
       "0       United Kingdom                                       NaN   \n",
       "1                   UK                                       NaN   \n",
       "2             Maldives                                       NaN   \n",
       "3              England  GAD, panic disorder, clinical depression   \n",
       "4             Maldives                                    C-PTSD   \n",
       "\n",
       "  In your opinion, do you believe mental health conditions can be treated?-Yes  \\\n",
       "0                    Yes, medical treatment, therapy                             \n",
       "1  Proper guidance from people around you. Afford...                             \n",
       "2                          Therapies and medications                             \n",
       "3                                                NaN                             \n",
       "4                    Appropriate behavioural therapy                             \n",
       "\n",
       "  In your opinion, do you believe mental health conditions can be treated?-No  \\\n",
       "0                                                NaN                            \n",
       "1                                                NaN                            \n",
       "2                                                NaN                            \n",
       "3   They can be brought under control but not cured.                            \n",
       "4                                                NaN                            \n",
       "\n",
       "  Have you ever experienced or witnessed stigma against person or people with a mental health condition? If you so could you please describe the incident. - Experienced  \\\n",
       "0                                                NaN                                                                                                                       \n",
       "1                                                NaN                                                                                                                       \n",
       "2                                                NaN                                                                                                                       \n",
       "3  Was told to go off antidepressants because dep...                                                                                                                       \n",
       "4        Accused of seeking attention / exaggeration                                                                                                                       \n",
       "\n",
       "  Have you ever experienced or witnessed stigma against person or people with a mental health condition? If you so could you please describe the incident. - Witnessed  \n",
       "0                                                NaN                                                                                                                    \n",
       "1                                                NaN                                                                                                                    \n",
       "2  Have seen relatives with mental health conditi...                                                                                                                    \n",
       "3                                                NaN                                                                                                                    \n",
       "4                                                NaN                                                                                                                    "
      ]
     },
     "execution_count": 28,
     "metadata": {},
     "output_type": "execute_result"
    }
   ],
   "source": [
    "#Let's go ahead and rename the columns now\n",
    "mental_health_selected_df = mental_health_selected_df.rename(columns={\"What is your nationality?\": \"Nationality\",\n",
    "                                                                     \"What South Asian heritage do you come from?\": \"South Asian Heritage\",\n",
    "                                                                     \"Do you have a formal diagnosis of a mental health condition from a professional? - Yes (please state your diagnosis) - Text\":\"Formal Diagnosis\",\n",
    "                                                                     \"In your opinion, do you believe mental health conditions can be treated? If yes, how? If no, why not? - Yes - Text\": \"In your opinion, do you believe mental health conditions can be treated?-Yes\",\n",
    "                                                                     \"In your opinion, do you believe mental health conditions can be treated? If yes, how? If no, why not? - No - Text\": \"In your opinion, do you believe mental health conditions can be treated?-No\",\n",
    "                                                                     \"Have you ever experienced or witnessed stigma against person or people with a mental health condition? If you so could you please describe the incident. - Experienced - Text\":\"Have you ever experienced or witnessed stigma against person or people with a mental health condition? If you so could you please describe the incident. - Experienced\",\n",
    "                                                                     \"Have you ever experienced or witnessed stigma against person or people with a mental health condition? If you so could you please describe the incident. - Witnessed - Text\": \"Have you ever experienced or witnessed stigma against person or people with a mental health condition? If you so could you please describe the incident. - Witnessed\"})\n",
    "\n",
    "mental_health_selected_df.head()"
   ]
  },
  {
   "cell_type": "code",
   "execution_count": 30,
   "id": "cabb0386-7e47-4bc8-9697-0e2486279ddc",
   "metadata": {},
   "outputs": [
    {
     "data": {
      "text/plain": [
       "array(['United Kingdom', 'UK', 'Maldives', 'England', 'Malaysia',\n",
       "       'Sri Lanka', 'Maldivian', 'Kyrgyzstan', 'maldives', 'India',\n",
       "       'Malé', 'United Kingdon', 'Singapore', 'Male', 'United States',\n",
       "       'Usa', 'Indian', \"Male'\", 'INDIA', 'Bangladesh', 'Rwanda',\n",
       "       'Lhaviyani', 'Kaaf', 'Nepal', 'Uk/Scotland', 'Australia', 'india',\n",
       "       'UAE', 'Bharat', 'Delhi', 'Canada', 'USA', 'Germany',\n",
       "       'Visakhapatnam', 'BD', 'Urban', 'Pakistan', 'pakistan', 'Lahore',\n",
       "       'Apartment', 'Lahore, Pakistan', '12 monthd', 'Pakistan Lahore',\n",
       "       'Punjab', 'Asia', 'Srilanka'], dtype=object)"
      ]
     },
     "execution_count": 30,
     "metadata": {},
     "output_type": "execute_result"
    }
   ],
   "source": [
    "mental_health_selected_df['Country of residence'].unique()"
   ]
  },
  {
   "cell_type": "code",
   "execution_count": 32,
   "id": "d9e2fa48-1fab-4d84-87a6-ad90798bd688",
   "metadata": {},
   "outputs": [],
   "source": [
    "#This needs a lot of data cleaning, \n",
    "#Ask S. about Scotland, 'Visakhapatnam', 'Lhaviyani', 'Kaaf' - set to Maldives for testing \n",
    "                                                                                                        \n",
    "mental_health_selected_df['Country of residence'] = mental_health_selected_df['Country of residence'].replace({'UK': 'United Kingdom',\n",
    "                                                                                                               'England': 'United Kingdom',\n",
    "                                                                                                               'United Kingdon': 'United Kingdom',\n",
    "                                                                                                               'Uk/Scotland': 'Scotland',\n",
    "                                                                                                               'Maldivian': 'Maldives',\n",
    "                                                                                                               'maldives': 'Maldives',\n",
    "                                                                                                               'Indian': 'India',\n",
    "                                                                                                               'INDIAN': 'India',\n",
    "                                                                                                               'INDIA': 'India',\n",
    "                                                                                                               'india': 'India',\n",
    "                                                                                                               'Bharat': 'India',\n",
    "                                                                                                               'Delhi': 'India',\n",
    "                                                                                                               'Visakhapatnam':'India',\n",
    "                                                                                                               'pakistan': 'Pakistan',\n",
    "                                                                                                               'Lahore': 'Pakistan', \n",
    "                                                                                                               'Lahore, Pakistan': 'Pakistan',\n",
    "                                                                                                               'Pakistan Lahore': 'Pakistan',\n",
    "                                                                                                               'Punjab': 'India',\n",
    "                                                                                                               'Srilanka': 'Sri Lanka',\n",
    "                                                                                                               'Apartment': 'Canada',\n",
    "                                                                                                               'BD': 'Bangladesh',\n",
    "                                                                                                               'Male': 'Maldives',\n",
    "                                                                                                               'Malé': 'Maldives',\n",
    "                                                                                                               \"Male'\": 'Maldives',\n",
    "                                                                                                               'Urban': 'Bangladesh',\n",
    "                                                                                                               'USA': 'United States',\n",
    "                                                                                                               'Usa': 'United States',\n",
    "                                                                                                               'Lhaviyani': 'Maldives',\n",
    "                                                                                                               'UAE': 'United Arab Emirates',\n",
    "                                                                                                               'Asia': 'Pakistan',\n",
    "                                                                                                              '12 monthd': 'Pakistan',\n",
    "                                                                                                              'United Arab Emerites': 'United Arab Emirates'},) "
   ]
  },
  {
   "cell_type": "code",
   "execution_count": 34,
   "id": "04c3b76d-333c-409a-91fc-0b0064d2d5e2",
   "metadata": {},
   "outputs": [
    {
     "data": {
      "text/plain": [
       "array(['United Kingdom', 'Maldives', 'Malaysia', 'Sri Lanka',\n",
       "       'Kyrgyzstan', 'India', 'Singapore', 'United States', 'Bangladesh',\n",
       "       'Rwanda', 'Kaaf', 'Nepal', 'Scotland', 'Australia',\n",
       "       'United Arab Emirates', 'Canada', 'Germany', 'Pakistan'],\n",
       "      dtype=object)"
      ]
     },
     "execution_count": 34,
     "metadata": {},
     "output_type": "execute_result"
    }
   ],
   "source": [
    "mental_health_selected_df['Country of residence'].unique()"
   ]
  },
  {
   "cell_type": "code",
   "execution_count": 36,
   "id": "71f6fc39-baeb-4bfc-9d67-ecd4874b6f51",
   "metadata": {},
   "outputs": [
    {
     "data": {
      "text/plain": [
       "Country of residence\n",
       "Pakistan                166\n",
       "India                   151\n",
       "Maldives                126\n",
       "United Kingdom           23\n",
       "Bangladesh               20\n",
       "United States            11\n",
       "Nepal                     9\n",
       "Malaysia                  4\n",
       "Australia                 4\n",
       "Sri Lanka                 3\n",
       "Canada                    3\n",
       "Kyrgyzstan                2\n",
       "United Arab Emirates      2\n",
       "Singapore                 1\n",
       "Kaaf                      1\n",
       "Scotland                  1\n",
       "Germany                   1\n",
       "Rwanda                    1\n",
       "Name: count, dtype: int64"
      ]
     },
     "execution_count": 36,
     "metadata": {},
     "output_type": "execute_result"
    }
   ],
   "source": [
    "mental_health_selected_df['Country of residence'].value_counts()"
   ]
  },
  {
   "cell_type": "code",
   "execution_count": 38,
   "id": "120e5c0f-02a1-46dc-9918-375642cd8ebd",
   "metadata": {},
   "outputs": [
    {
     "data": {
      "text/plain": [
       "Nationality                                                                                                                                                               529\n",
       "Which South Asian heritage do you come from?                                                                                                                              523\n",
       "Country of residence                                                                                                                                                      529\n",
       "Formal Diagnosis                                                                                                                                                           66\n",
       "In your opinion, do you believe mental health conditions can be treated?-Yes                                                                                              396\n",
       "In your opinion, do you believe mental health conditions can be treated?-No                                                                                                16\n",
       "Have you ever experienced or witnessed stigma against person or people with a mental health condition? If you so could you please describe the incident. - Experienced    100\n",
       "Have you ever experienced or witnessed stigma against person or people with a mental health condition? If you so could you please describe the incident. - Witnessed      100\n",
       "dtype: int64"
      ]
     },
     "execution_count": 38,
     "metadata": {},
     "output_type": "execute_result"
    }
   ],
   "source": [
    "mental_health_selected_df.count()"
   ]
  },
  {
   "cell_type": "code",
   "execution_count": 40,
   "id": "0d2cb936-d3b7-4084-a397-2f31dfdf35f7",
   "metadata": {},
   "outputs": [
    {
     "data": {
      "text/html": [
       "<div>\n",
       "<style scoped>\n",
       "    .dataframe tbody tr th:only-of-type {\n",
       "        vertical-align: middle;\n",
       "    }\n",
       "\n",
       "    .dataframe tbody tr th {\n",
       "        vertical-align: top;\n",
       "    }\n",
       "\n",
       "    .dataframe thead th {\n",
       "        text-align: right;\n",
       "    }\n",
       "</style>\n",
       "<table border=\"1\" class=\"dataframe\">\n",
       "  <thead>\n",
       "    <tr style=\"text-align: right;\">\n",
       "      <th></th>\n",
       "      <th>Nationality</th>\n",
       "      <th>Which South Asian heritage do you come from?</th>\n",
       "      <th>Country of residence</th>\n",
       "      <th>Formal Diagnosis</th>\n",
       "      <th>In your opinion, do you believe mental health conditions can be treated?-Yes</th>\n",
       "      <th>In your opinion, do you believe mental health conditions can be treated?-No</th>\n",
       "      <th>Have you ever experienced or witnessed stigma against person or people with a mental health condition? If you so could you please describe the incident. - Experienced</th>\n",
       "      <th>Have you ever experienced or witnessed stigma against person or people with a mental health condition? If you so could you please describe the incident. - Witnessed</th>\n",
       "    </tr>\n",
       "  </thead>\n",
       "  <tbody>\n",
       "    <tr>\n",
       "      <th>0</th>\n",
       "      <td>Maldivian</td>\n",
       "      <td>Maldivian</td>\n",
       "      <td>United Kingdom</td>\n",
       "      <td>NaN</td>\n",
       "      <td>Yes, medical treatment, therapy</td>\n",
       "      <td>NaN</td>\n",
       "      <td>NaN</td>\n",
       "      <td>NaN</td>\n",
       "    </tr>\n",
       "    <tr>\n",
       "      <th>1</th>\n",
       "      <td>British</td>\n",
       "      <td>Maldivian</td>\n",
       "      <td>United Kingdom</td>\n",
       "      <td>NaN</td>\n",
       "      <td>Proper guidance from people around you. Afford...</td>\n",
       "      <td>NaN</td>\n",
       "      <td>NaN</td>\n",
       "      <td>NaN</td>\n",
       "    </tr>\n",
       "    <tr>\n",
       "      <th>2</th>\n",
       "      <td>Maldivian</td>\n",
       "      <td>Maldives</td>\n",
       "      <td>Maldives</td>\n",
       "      <td>NaN</td>\n",
       "      <td>Therapies and medications</td>\n",
       "      <td>NaN</td>\n",
       "      <td>NaN</td>\n",
       "      <td>Have seen relatives with mental health conditi...</td>\n",
       "    </tr>\n",
       "    <tr>\n",
       "      <th>3</th>\n",
       "      <td>Maldivian</td>\n",
       "      <td>Maldives</td>\n",
       "      <td>United Kingdom</td>\n",
       "      <td>GAD, panic disorder, clinical depression</td>\n",
       "      <td>NaN</td>\n",
       "      <td>They can be brought under control but not cured.</td>\n",
       "      <td>Was told to go off antidepressants because dep...</td>\n",
       "      <td>NaN</td>\n",
       "    </tr>\n",
       "    <tr>\n",
       "      <th>4</th>\n",
       "      <td>Maldivian</td>\n",
       "      <td>Maldivian</td>\n",
       "      <td>Maldives</td>\n",
       "      <td>C-PTSD</td>\n",
       "      <td>Appropriate behavioural therapy</td>\n",
       "      <td>NaN</td>\n",
       "      <td>Accused of seeking attention / exaggeration</td>\n",
       "      <td>NaN</td>\n",
       "    </tr>\n",
       "  </tbody>\n",
       "</table>\n",
       "</div>"
      ],
      "text/plain": [
       "  Nationality Which South Asian heritage do you come from?  \\\n",
       "0   Maldivian                                    Maldivian   \n",
       "1     British                                    Maldivian   \n",
       "2   Maldivian                                     Maldives   \n",
       "3   Maldivian                                     Maldives   \n",
       "4   Maldivian                                    Maldivian   \n",
       "\n",
       "  Country of residence                          Formal Diagnosis  \\\n",
       "0       United Kingdom                                       NaN   \n",
       "1       United Kingdom                                       NaN   \n",
       "2             Maldives                                       NaN   \n",
       "3       United Kingdom  GAD, panic disorder, clinical depression   \n",
       "4             Maldives                                    C-PTSD   \n",
       "\n",
       "  In your opinion, do you believe mental health conditions can be treated?-Yes  \\\n",
       "0                    Yes, medical treatment, therapy                             \n",
       "1  Proper guidance from people around you. Afford...                             \n",
       "2                          Therapies and medications                             \n",
       "3                                                NaN                             \n",
       "4                    Appropriate behavioural therapy                             \n",
       "\n",
       "  In your opinion, do you believe mental health conditions can be treated?-No  \\\n",
       "0                                                NaN                            \n",
       "1                                                NaN                            \n",
       "2                                                NaN                            \n",
       "3   They can be brought under control but not cured.                            \n",
       "4                                                NaN                            \n",
       "\n",
       "  Have you ever experienced or witnessed stigma against person or people with a mental health condition? If you so could you please describe the incident. - Experienced  \\\n",
       "0                                                NaN                                                                                                                       \n",
       "1                                                NaN                                                                                                                       \n",
       "2                                                NaN                                                                                                                       \n",
       "3  Was told to go off antidepressants because dep...                                                                                                                       \n",
       "4        Accused of seeking attention / exaggeration                                                                                                                       \n",
       "\n",
       "  Have you ever experienced or witnessed stigma against person or people with a mental health condition? If you so could you please describe the incident. - Witnessed  \n",
       "0                                                NaN                                                                                                                    \n",
       "1                                                NaN                                                                                                                    \n",
       "2  Have seen relatives with mental health conditi...                                                                                                                    \n",
       "3                                                NaN                                                                                                                    \n",
       "4                                                NaN                                                                                                                    "
      ]
     },
     "execution_count": 40,
     "metadata": {},
     "output_type": "execute_result"
    }
   ],
   "source": [
    "mental_health_selected_df.head()"
   ]
  },
  {
   "cell_type": "code",
   "execution_count": 42,
   "id": "082cd265-e1e4-498b-b76d-6c14f467f23d",
   "metadata": {},
   "outputs": [],
   "source": [
    "mental_health_selected_df = mental_health_selected_df[mental_health_selected_df['Country of residence'] != 'Kaaf']"
   ]
  },
  {
   "cell_type": "code",
   "execution_count": 44,
   "id": "a76c653d-f2cf-4fad-808b-4224e0856eec",
   "metadata": {
    "scrolled": true
   },
   "outputs": [
    {
     "data": {
      "text/plain": [
       "Country of residence\n",
       "Pakistan                166\n",
       "India                   151\n",
       "Maldives                126\n",
       "United Kingdom           23\n",
       "Bangladesh               20\n",
       "United States            11\n",
       "Nepal                     9\n",
       "Malaysia                  4\n",
       "Australia                 4\n",
       "Sri Lanka                 3\n",
       "Canada                    3\n",
       "Kyrgyzstan                2\n",
       "United Arab Emirates      2\n",
       "Singapore                 1\n",
       "Rwanda                    1\n",
       "Scotland                  1\n",
       "Germany                   1\n",
       "Name: count, dtype: int64"
      ]
     },
     "execution_count": 44,
     "metadata": {},
     "output_type": "execute_result"
    }
   ],
   "source": [
    "mental_health_selected_df['Country of residence'].value_counts()"
   ]
  },
  {
   "cell_type": "code",
   "execution_count": 46,
   "id": "758b53b1-e5dc-4f83-b8c5-632d4c46f9f8",
   "metadata": {},
   "outputs": [],
   "source": [
    "# Example boundaries for some countries\n",
    "country_bounds = {\n",
    "    \"Pakistan\": {\"lat_min\": 23.6345, \"lat_max\": 37.0841, \"lon_min\": 60.8728, \"lon_max\": 77.6572},\n",
    "    \"India\": {\"lat_min\": 6.4626, \"lat_max\": 37.284, \"lon_min\": 68.1166, \"lon_max\": 97.4026},\n",
    "    \"Maldives\": {\"lat_min\": -0.749, \"lat_max\": 7.100, \"lon_min\": 72.508, \"lon_max\": 73.707},\n",
    "    \"United Kingdom\": {\"lat_min\": 49.8642, \"lat_max\": 58.635, \"lon_min\": -8.649, \"lon_max\": 1.768},\n",
    "    \"Bangladesh\": {\"lat_min\": 20.250, \"lat_max\": 26.638, \"lon_min\": 88.041, \"lon_max\": 92.675},\n",
    "    \"United States\": {\"lat_min\": 24.396308, \"lat_max\": 49.384358, \"lon_min\": -125.0, \"lon_max\": -66.93457},\n",
    "    \"Nepal\": {\"lat_min\": 26.347, \"lat_max\": 30.447, \"lon_min\": 80.058, \"lon_max\": 88.201},\n",
    "    \"Malaysia\": {\"lat_min\": 1.1733, \"lat_max\": 7.3656, \"lon_min\": 101.999, \"lon_max\": 119.259},\n",
    "    \"Australia\": {\"lat_min\": -43.63459, \"lat_max\": -10.668185, \"lon_min\": 113.0, \"lon_max\": 153.0},\n",
    "    \"Sri Lanka\": {\"lat_min\": 5.875, \"lat_max\": 9.83, \"lon_min\": 79.958, \"lon_max\": 81.845},\n",
    "    \"Canada\": {\"lat_min\": 41.676555, \"lat_max\": 83.23324, \"lon_min\": -141.0, \"lon_max\": -52.648098},\n",
    "    \"Kyrgyzstan\": {\"lat_min\": 39.191, \"lat_max\": 42.757, \"lon_min\": 69.182, \"lon_max\": 80.248},\n",
    "    \"United Arab Emirates\": {\"lat_min\": 22.6349, \"lat_max\": 26.0881, \"lon_min\": 51.5833, \"lon_max\": 56.4136},\n",
    "    \"Singapore\": {\"lat_min\": 1.2604, \"lat_max\": 1.4691, \"lon_min\": 103.5704, \"lon_max\": 104.1245},\n",
    "    \"Rwanda\": {\"lat_min\": -2.511, \"lat_max\": -1.046, \"lon_min\": 29.9, \"lon_max\": 30.892},\n",
    "    \"Scotland\": {\"lat_min\": 54.6029, \"lat_max\": 60.8433, \"lon_min\": -5.437, \"lon_max\": -3.070},\n",
    "    \"Germany\": {\"lat_min\":47.2701, \"lat_max\": 55.0581, \"lon_min\": -15.0419, \"lon_max\": -5.8663}\n",
    "}\n"
   ]
  },
  {
   "cell_type": "code",
   "execution_count": 48,
   "id": "f29638da-a5c2-412a-abe4-5ef4e9dcf020",
   "metadata": {},
   "outputs": [],
   "source": [
    "import random\n",
    "\n",
    "def get_random_coords(country):\n",
    "    bounds = country_bounds.get(country)\n",
    "    if bounds:\n",
    "        lat = random.uniform(bounds['lat_min'], bounds['lat_max'])\n",
    "        lon = random.uniform(bounds['lon_min'], bounds['lon_max'])\n",
    "        return lat, lon\n",
    "    return None, None"
   ]
  },
  {
   "cell_type": "code",
   "execution_count": 50,
   "id": "56d241b4-0563-4a18-870a-6b44c6ac205c",
   "metadata": {},
   "outputs": [],
   "source": [
    "# Function to apply random coordinate generation\n",
    "def assign_random_coordinates(row):\n",
    "    country = row['Country of residence'] \n",
    "    lat, lon = get_random_coords(country)\n",
    "    return pd.Series([lat, lon])"
   ]
  },
  {
   "cell_type": "code",
   "execution_count": 52,
   "id": "84271d7f-039c-4d19-abd4-1f0d206eb1fd",
   "metadata": {},
   "outputs": [],
   "source": [
    "# Create new columns in the DataFrame\n",
    "mental_health_selected_df[['latitude', 'longitude']] = mental_health_selected_df.apply(assign_random_coordinates, axis=1)"
   ]
  },
  {
   "cell_type": "code",
   "execution_count": 54,
   "id": "e12093f6-ad51-4cdf-a3c3-6bb56628c792",
   "metadata": {},
   "outputs": [
    {
     "data": {
      "text/html": [
       "<div>\n",
       "<style scoped>\n",
       "    .dataframe tbody tr th:only-of-type {\n",
       "        vertical-align: middle;\n",
       "    }\n",
       "\n",
       "    .dataframe tbody tr th {\n",
       "        vertical-align: top;\n",
       "    }\n",
       "\n",
       "    .dataframe thead th {\n",
       "        text-align: right;\n",
       "    }\n",
       "</style>\n",
       "<table border=\"1\" class=\"dataframe\">\n",
       "  <thead>\n",
       "    <tr style=\"text-align: right;\">\n",
       "      <th></th>\n",
       "      <th>Nationality</th>\n",
       "      <th>Which South Asian heritage do you come from?</th>\n",
       "      <th>Country of residence</th>\n",
       "      <th>Formal Diagnosis</th>\n",
       "      <th>In your opinion, do you believe mental health conditions can be treated?-Yes</th>\n",
       "      <th>In your opinion, do you believe mental health conditions can be treated?-No</th>\n",
       "      <th>Have you ever experienced or witnessed stigma against person or people with a mental health condition? If you so could you please describe the incident. - Experienced</th>\n",
       "      <th>Have you ever experienced or witnessed stigma against person or people with a mental health condition? If you so could you please describe the incident. - Witnessed</th>\n",
       "      <th>latitude</th>\n",
       "      <th>longitude</th>\n",
       "    </tr>\n",
       "  </thead>\n",
       "  <tbody>\n",
       "    <tr>\n",
       "      <th>0</th>\n",
       "      <td>Maldivian</td>\n",
       "      <td>Maldivian</td>\n",
       "      <td>United Kingdom</td>\n",
       "      <td>NaN</td>\n",
       "      <td>Yes, medical treatment, therapy</td>\n",
       "      <td>NaN</td>\n",
       "      <td>NaN</td>\n",
       "      <td>NaN</td>\n",
       "      <td>55.657986</td>\n",
       "      <td>-1.063523</td>\n",
       "    </tr>\n",
       "    <tr>\n",
       "      <th>1</th>\n",
       "      <td>British</td>\n",
       "      <td>Maldivian</td>\n",
       "      <td>United Kingdom</td>\n",
       "      <td>NaN</td>\n",
       "      <td>Proper guidance from people around you. Afford...</td>\n",
       "      <td>NaN</td>\n",
       "      <td>NaN</td>\n",
       "      <td>NaN</td>\n",
       "      <td>52.093240</td>\n",
       "      <td>-1.616223</td>\n",
       "    </tr>\n",
       "    <tr>\n",
       "      <th>2</th>\n",
       "      <td>Maldivian</td>\n",
       "      <td>Maldives</td>\n",
       "      <td>Maldives</td>\n",
       "      <td>NaN</td>\n",
       "      <td>Therapies and medications</td>\n",
       "      <td>NaN</td>\n",
       "      <td>NaN</td>\n",
       "      <td>Have seen relatives with mental health conditi...</td>\n",
       "      <td>2.777925</td>\n",
       "      <td>73.335682</td>\n",
       "    </tr>\n",
       "    <tr>\n",
       "      <th>3</th>\n",
       "      <td>Maldivian</td>\n",
       "      <td>Maldives</td>\n",
       "      <td>United Kingdom</td>\n",
       "      <td>GAD, panic disorder, clinical depression</td>\n",
       "      <td>NaN</td>\n",
       "      <td>They can be brought under control but not cured.</td>\n",
       "      <td>Was told to go off antidepressants because dep...</td>\n",
       "      <td>NaN</td>\n",
       "      <td>54.019620</td>\n",
       "      <td>-2.062515</td>\n",
       "    </tr>\n",
       "    <tr>\n",
       "      <th>4</th>\n",
       "      <td>Maldivian</td>\n",
       "      <td>Maldivian</td>\n",
       "      <td>Maldives</td>\n",
       "      <td>C-PTSD</td>\n",
       "      <td>Appropriate behavioural therapy</td>\n",
       "      <td>NaN</td>\n",
       "      <td>Accused of seeking attention / exaggeration</td>\n",
       "      <td>NaN</td>\n",
       "      <td>1.637863</td>\n",
       "      <td>73.476834</td>\n",
       "    </tr>\n",
       "  </tbody>\n",
       "</table>\n",
       "</div>"
      ],
      "text/plain": [
       "  Nationality Which South Asian heritage do you come from?  \\\n",
       "0   Maldivian                                    Maldivian   \n",
       "1     British                                    Maldivian   \n",
       "2   Maldivian                                     Maldives   \n",
       "3   Maldivian                                     Maldives   \n",
       "4   Maldivian                                    Maldivian   \n",
       "\n",
       "  Country of residence                          Formal Diagnosis  \\\n",
       "0       United Kingdom                                       NaN   \n",
       "1       United Kingdom                                       NaN   \n",
       "2             Maldives                                       NaN   \n",
       "3       United Kingdom  GAD, panic disorder, clinical depression   \n",
       "4             Maldives                                    C-PTSD   \n",
       "\n",
       "  In your opinion, do you believe mental health conditions can be treated?-Yes  \\\n",
       "0                    Yes, medical treatment, therapy                             \n",
       "1  Proper guidance from people around you. Afford...                             \n",
       "2                          Therapies and medications                             \n",
       "3                                                NaN                             \n",
       "4                    Appropriate behavioural therapy                             \n",
       "\n",
       "  In your opinion, do you believe mental health conditions can be treated?-No  \\\n",
       "0                                                NaN                            \n",
       "1                                                NaN                            \n",
       "2                                                NaN                            \n",
       "3   They can be brought under control but not cured.                            \n",
       "4                                                NaN                            \n",
       "\n",
       "  Have you ever experienced or witnessed stigma against person or people with a mental health condition? If you so could you please describe the incident. - Experienced  \\\n",
       "0                                                NaN                                                                                                                       \n",
       "1                                                NaN                                                                                                                       \n",
       "2                                                NaN                                                                                                                       \n",
       "3  Was told to go off antidepressants because dep...                                                                                                                       \n",
       "4        Accused of seeking attention / exaggeration                                                                                                                       \n",
       "\n",
       "  Have you ever experienced or witnessed stigma against person or people with a mental health condition? If you so could you please describe the incident. - Witnessed  \\\n",
       "0                                                NaN                                                                                                                     \n",
       "1                                                NaN                                                                                                                     \n",
       "2  Have seen relatives with mental health conditi...                                                                                                                     \n",
       "3                                                NaN                                                                                                                     \n",
       "4                                                NaN                                                                                                                     \n",
       "\n",
       "    latitude  longitude  \n",
       "0  55.657986  -1.063523  \n",
       "1  52.093240  -1.616223  \n",
       "2   2.777925  73.335682  \n",
       "3  54.019620  -2.062515  \n",
       "4   1.637863  73.476834  "
      ]
     },
     "execution_count": 54,
     "metadata": {},
     "output_type": "execute_result"
    }
   ],
   "source": [
    "mental_health_selected_df.head()"
   ]
  },
  {
   "cell_type": "code",
   "execution_count": 56,
   "id": "7c2848a5-bf36-4e40-b9b0-cbfe03f32339",
   "metadata": {},
   "outputs": [],
   "source": [
    "# Save the updated DataFrame to a new CSV file\n",
    "mental_health_selected_df.to_csv('updated_data_with_random_coords.csv', index=False)"
   ]
  },
  {
   "cell_type": "code",
   "execution_count": 58,
   "id": "0529a478-a4a6-4d07-baf0-6d905222fe84",
   "metadata": {},
   "outputs": [
    {
     "name": "stdout",
     "output_type": "stream",
     "text": [
      "  Nationality Which South Asian heritage do you come from?  \\\n",
      "0   Maldivian                                    Maldivian   \n",
      "1     British                                    Maldivian   \n",
      "2   Maldivian                                     Maldives   \n",
      "3   Maldivian                                     Maldives   \n",
      "4   Maldivian                                    Maldivian   \n",
      "\n",
      "  Country of residence                          Formal Diagnosis  \\\n",
      "0       United Kingdom                                       NaN   \n",
      "1       United Kingdom                                       NaN   \n",
      "2             Maldives                                       NaN   \n",
      "3       United Kingdom  GAD, panic disorder, clinical depression   \n",
      "4             Maldives                                    C-PTSD   \n",
      "\n",
      "  In your opinion, do you believe mental health conditions can be treated?-Yes  \\\n",
      "0                    Yes, medical treatment, therapy                             \n",
      "1  Proper guidance from people around you. Afford...                             \n",
      "2                          Therapies and medications                             \n",
      "3                                                NaN                             \n",
      "4                    Appropriate behavioural therapy                             \n",
      "\n",
      "  In your opinion, do you believe mental health conditions can be treated?-No  \\\n",
      "0                                                NaN                            \n",
      "1                                                NaN                            \n",
      "2                                                NaN                            \n",
      "3   They can be brought under control but not cured.                            \n",
      "4                                                NaN                            \n",
      "\n",
      "  Have you ever experienced or witnessed stigma against person or people with a mental health condition? If you so could you please describe the incident. - Experienced  \\\n",
      "0                                                NaN                                                                                                                       \n",
      "1                                                NaN                                                                                                                       \n",
      "2                                                NaN                                                                                                                       \n",
      "3  Was told to go off antidepressants because dep...                                                                                                                       \n",
      "4        Accused of seeking attention / exaggeration                                                                                                                       \n",
      "\n",
      "  Have you ever experienced or witnessed stigma against person or people with a mental health condition? If you so could you please describe the incident. - Witnessed  \\\n",
      "0                                                NaN                                                                                                                     \n",
      "1                                                NaN                                                                                                                     \n",
      "2  Have seen relatives with mental health conditi...                                                                                                                     \n",
      "3                                                NaN                                                                                                                     \n",
      "4                                                NaN                                                                                                                     \n",
      "\n",
      "    latitude  longitude  \n",
      "0  55.657986  -1.063523  \n",
      "1  52.093240  -1.616223  \n",
      "2   2.777925  73.335682  \n",
      "3  54.019620  -2.062515  \n",
      "4   1.637863  73.476834  \n"
     ]
    }
   ],
   "source": [
    "# Optional: Display the updated DataFrame\n",
    "print(mental_health_selected_df.head())"
   ]
  },
  {
   "cell_type": "code",
   "execution_count": null,
   "id": "05a017c7-fe51-4fcd-82e1-d712ddcf0c38",
   "metadata": {},
   "outputs": [],
   "source": []
  },
  {
   "cell_type": "code",
   "execution_count": null,
   "id": "78a4ced0-0907-40d1-87f2-b44e770c24a5",
   "metadata": {},
   "outputs": [],
   "source": []
  },
  {
   "cell_type": "code",
   "execution_count": null,
   "id": "b7f1f024-5ea7-48d3-8f8f-d13e20032181",
   "metadata": {},
   "outputs": [],
   "source": []
  }
 ],
 "metadata": {
  "kernelspec": {
   "display_name": "Python 3 (ipykernel)",
   "language": "python",
   "name": "python3"
  },
  "language_info": {
   "codemirror_mode": {
    "name": "ipython",
    "version": 3
   },
   "file_extension": ".py",
   "mimetype": "text/x-python",
   "name": "python",
   "nbconvert_exporter": "python",
   "pygments_lexer": "ipython3",
   "version": "3.12.4"
  }
 },
 "nbformat": 4,
 "nbformat_minor": 5
}
