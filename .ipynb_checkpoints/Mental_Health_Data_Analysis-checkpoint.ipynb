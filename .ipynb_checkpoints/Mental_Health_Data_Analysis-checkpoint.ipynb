{
 "cells": [
  {
   "cell_type": "code",
   "execution_count": 1,
   "id": "eac2950a-37ca-4415-81b5-4eccad9fcb1d",
   "metadata": {},
   "outputs": [
    {
     "name": "stdout",
     "output_type": "stream",
     "text": [
      "Requirement already satisfied: pandas in c:\\users\\arpitas\\appdata\\local\\anaconda3\\lib\\site-packages (2.2.2)\n",
      "Requirement already satisfied: numpy in c:\\users\\arpitas\\appdata\\local\\anaconda3\\lib\\site-packages (1.26.4)\n",
      "Requirement already satisfied: python-dateutil>=2.8.2 in c:\\users\\arpitas\\appdata\\local\\anaconda3\\lib\\site-packages (from pandas) (2.9.0.post0)\n",
      "Requirement already satisfied: pytz>=2020.1 in c:\\users\\arpitas\\appdata\\local\\anaconda3\\lib\\site-packages (from pandas) (2024.1)\n",
      "Requirement already satisfied: tzdata>=2022.7 in c:\\users\\arpitas\\appdata\\local\\anaconda3\\lib\\site-packages (from pandas) (2023.3)\n",
      "Requirement already satisfied: six>=1.5 in c:\\users\\arpitas\\appdata\\local\\anaconda3\\lib\\site-packages (from python-dateutil>=2.8.2->pandas) (1.16.0)\n"
     ]
    }
   ],
   "source": [
    "#import dependencies\n",
    "import pandas as pd\n",
    "import geopandas as gpd\n",
    "from shapely.geometry import Point\n",
    "!pip install pandas numpy"
   ]
  },
  {
   "cell_type": "code",
   "execution_count": 2,
   "id": "1201bbc3-6414-4a0f-86b8-39a9f972f325",
   "metadata": {},
   "outputs": [],
   "source": [
    "#This is the file I am reading in for my analysis. \n",
    "mental_health_csv = \"./Resources/mental_health_study.csv\"\n",
    "country_csv = \"./Resources/country_long_lat_data.csv\""
   ]
  },
  {
   "cell_type": "code",
   "execution_count": 3,
   "id": "c9f6bb26-51dc-4751-8c0e-3a19e159e973",
   "metadata": {},
   "outputs": [],
   "source": [
    "#Pulling in the data here\n",
    "mental_health_df = pd.read_csv(mental_health_csv)\n",
    "country_df = pd.read_csv(country_csv)"
   ]
  },
  {
   "cell_type": "code",
   "execution_count": 4,
   "id": "24a9446b-7c19-4093-90e8-db1fd3b6adb0",
   "metadata": {},
   "outputs": [
    {
     "data": {
      "text/html": [
       "<div>\n",
       "<style scoped>\n",
       "    .dataframe tbody tr th:only-of-type {\n",
       "        vertical-align: middle;\n",
       "    }\n",
       "\n",
       "    .dataframe tbody tr th {\n",
       "        vertical-align: top;\n",
       "    }\n",
       "\n",
       "    .dataframe thead th {\n",
       "        text-align: right;\n",
       "    }\n",
       "</style>\n",
       "<table border=\"1\" class=\"dataframe\">\n",
       "  <thead>\n",
       "    <tr style=\"text-align: right;\">\n",
       "      <th></th>\n",
       "      <th>Recorded Date</th>\n",
       "      <th>What is your age?</th>\n",
       "      <th>What is your gender?</th>\n",
       "      <th>What is your marital status?</th>\n",
       "      <th>What is the highest degree or level of school you have completed?</th>\n",
       "      <th>What is your current employment status?</th>\n",
       "      <th>How would you describe your income level?</th>\n",
       "      <th>Religious Affiliation</th>\n",
       "      <th>What is your nationality?</th>\n",
       "      <th>Which South Asian heritage do you come from?</th>\n",
       "      <th>...</th>\n",
       "      <th>Have you ever experienced or witnessed stigma against person or people with a mental health condition? If you so could you please describe the incident. - Selected Choice</th>\n",
       "      <th>Have you ever experienced or witnessed stigma against person or people with a mental health condition? If you so could you please describe the incident. - Experienced - Text</th>\n",
       "      <th>Have you ever experienced or witnessed stigma against person or people with a mental health condition? If you so could you please describe the incident. - Witnessed - Text</th>\n",
       "      <th>Familiarity with Mental Illness (Yes or No). - 1. My job involves providing services/treatment for persons with mental illness.</th>\n",
       "      <th>Familiarity with Mental Illness (Yes or No). - 2. I have observed, in passing, a person I believe may have had a severe mental illness.</th>\n",
       "      <th>Familiarity with Mental Illness (Yes or No). - 3. I have observed persons with a severe mental illness on a frequent basis.</th>\n",
       "      <th>Familiarity with Mental Illness (Yes or No). - 4. I have worked with a person who had a severe mental illness at my place of employment.</th>\n",
       "      <th>Familiarity with Mental Illness (Yes or No). - 5. A friend of the family has a severe mental illness.</th>\n",
       "      <th>Familiarity with Mental Illness (Yes or No). - 6. I have a relative who has a severe mental illness.</th>\n",
       "      <th>Familiarity with Mental Illness (Yes or No). - 7. I live with a person who has a severe mental illness.</th>\n",
       "    </tr>\n",
       "  </thead>\n",
       "  <tbody>\n",
       "    <tr>\n",
       "      <th>0</th>\n",
       "      <td>6/6/2022 11:40</td>\n",
       "      <td>26</td>\n",
       "      <td>Male</td>\n",
       "      <td>Single (never married)</td>\n",
       "      <td>Master's degree (e.g. MA, MS, MEd)</td>\n",
       "      <td>Student</td>\n",
       "      <td>My income is sufficient to meet my needs</td>\n",
       "      <td>Islam</td>\n",
       "      <td>Maldivian</td>\n",
       "      <td>Maldivian</td>\n",
       "      <td>...</td>\n",
       "      <td>No</td>\n",
       "      <td>NaN</td>\n",
       "      <td>NaN</td>\n",
       "      <td>No</td>\n",
       "      <td>Yes</td>\n",
       "      <td>No</td>\n",
       "      <td>No</td>\n",
       "      <td>No</td>\n",
       "      <td>No</td>\n",
       "      <td>No</td>\n",
       "    </tr>\n",
       "    <tr>\n",
       "      <th>1</th>\n",
       "      <td>6/6/2022 11:49</td>\n",
       "      <td>27</td>\n",
       "      <td>Female</td>\n",
       "      <td>Single (never married)</td>\n",
       "      <td>Master's degree (e.g. MA, MS, MEd)</td>\n",
       "      <td>Employed full time</td>\n",
       "      <td>My income is not sufficient to meet my needs</td>\n",
       "      <td>Islam</td>\n",
       "      <td>British - Maldivian</td>\n",
       "      <td>Maldivian</td>\n",
       "      <td>...</td>\n",
       "      <td>No</td>\n",
       "      <td>NaN</td>\n",
       "      <td>NaN</td>\n",
       "      <td>No</td>\n",
       "      <td>Yes</td>\n",
       "      <td>No</td>\n",
       "      <td>No</td>\n",
       "      <td>Yes</td>\n",
       "      <td>Yes</td>\n",
       "      <td>No</td>\n",
       "    </tr>\n",
       "    <tr>\n",
       "      <th>2</th>\n",
       "      <td>6/6/2022 12:15</td>\n",
       "      <td>24</td>\n",
       "      <td>Female</td>\n",
       "      <td>Married, or in a domestic partnership</td>\n",
       "      <td>A'level</td>\n",
       "      <td>Student</td>\n",
       "      <td>My income is sufficient to meet my needs</td>\n",
       "      <td>Islam</td>\n",
       "      <td>Maldivian</td>\n",
       "      <td>Maldives</td>\n",
       "      <td>...</td>\n",
       "      <td>Witnessed</td>\n",
       "      <td>NaN</td>\n",
       "      <td>Have seen relatives with mental health conditi...</td>\n",
       "      <td>Yes</td>\n",
       "      <td>Yes</td>\n",
       "      <td>No</td>\n",
       "      <td>Yes</td>\n",
       "      <td>No</td>\n",
       "      <td>No</td>\n",
       "      <td>No</td>\n",
       "    </tr>\n",
       "    <tr>\n",
       "      <th>3</th>\n",
       "      <td>6/6/2022 12:49</td>\n",
       "      <td>28</td>\n",
       "      <td>Female</td>\n",
       "      <td>Married, or in a domestic partnership</td>\n",
       "      <td>Bachelor's degree (e.g. BA, BS)</td>\n",
       "      <td>Student</td>\n",
       "      <td>My income is not sufficient to meet my needs</td>\n",
       "      <td>Muslim</td>\n",
       "      <td>Maldivian</td>\n",
       "      <td>Maldives</td>\n",
       "      <td>...</td>\n",
       "      <td>Experienced</td>\n",
       "      <td>Was told to go off antidepressants because dep...</td>\n",
       "      <td>NaN</td>\n",
       "      <td>No</td>\n",
       "      <td>Yes</td>\n",
       "      <td>Yes</td>\n",
       "      <td>Yes</td>\n",
       "      <td>Yes</td>\n",
       "      <td>Yes</td>\n",
       "      <td>Yes</td>\n",
       "    </tr>\n",
       "    <tr>\n",
       "      <th>4</th>\n",
       "      <td>6/6/2022 13:18</td>\n",
       "      <td>20</td>\n",
       "      <td>Female</td>\n",
       "      <td>Single (never married)</td>\n",
       "      <td>A'level</td>\n",
       "      <td>Student</td>\n",
       "      <td>My income is not sufficient to meet my needs</td>\n",
       "      <td>Islam</td>\n",
       "      <td>Maldivian</td>\n",
       "      <td>Maldivian</td>\n",
       "      <td>...</td>\n",
       "      <td>Experienced</td>\n",
       "      <td>Accused of seeking attention / exaggeration</td>\n",
       "      <td>NaN</td>\n",
       "      <td>No</td>\n",
       "      <td>Yes</td>\n",
       "      <td>No</td>\n",
       "      <td>No</td>\n",
       "      <td>Yes</td>\n",
       "      <td>Yes</td>\n",
       "      <td>No</td>\n",
       "    </tr>\n",
       "  </tbody>\n",
       "</table>\n",
       "<p>5 rows × 28 columns</p>\n",
       "</div>"
      ],
      "text/plain": [
       "    Recorded Date What is your age? What is your gender?  \\\n",
       "0  6/6/2022 11:40                26                 Male   \n",
       "1  6/6/2022 11:49                27               Female   \n",
       "2  6/6/2022 12:15                24               Female   \n",
       "3  6/6/2022 12:49                28               Female   \n",
       "4  6/6/2022 13:18                20               Female   \n",
       "\n",
       "            What is your marital status?  \\\n",
       "0                 Single (never married)   \n",
       "1                 Single (never married)   \n",
       "2  Married, or in a domestic partnership   \n",
       "3  Married, or in a domestic partnership   \n",
       "4                 Single (never married)   \n",
       "\n",
       "  What is the highest degree or level of school you have completed?  \\\n",
       "0                 Master's degree (e.g. MA, MS, MEd)                  \n",
       "1                 Master's degree (e.g. MA, MS, MEd)                  \n",
       "2                                            A'level                  \n",
       "3                    Bachelor's degree (e.g. BA, BS)                  \n",
       "4                                            A'level                  \n",
       "\n",
       "  What is your current employment status?  \\\n",
       "0                                 Student   \n",
       "1                      Employed full time   \n",
       "2                                 Student   \n",
       "3                                 Student   \n",
       "4                                 Student   \n",
       "\n",
       "      How would you describe your income level? Religious Affiliation  \\\n",
       "0      My income is sufficient to meet my needs                 Islam   \n",
       "1  My income is not sufficient to meet my needs                 Islam   \n",
       "2      My income is sufficient to meet my needs                 Islam   \n",
       "3  My income is not sufficient to meet my needs                Muslim   \n",
       "4  My income is not sufficient to meet my needs                 Islam   \n",
       "\n",
       "  What is your nationality? Which South Asian heritage do you come from?  ...  \\\n",
       "0                 Maldivian                                    Maldivian  ...   \n",
       "1       British - Maldivian                                    Maldivian  ...   \n",
       "2                 Maldivian                                     Maldives  ...   \n",
       "3                 Maldivian                                     Maldives  ...   \n",
       "4                 Maldivian                                    Maldivian  ...   \n",
       "\n",
       "  Have you ever experienced or witnessed stigma against person or people with a mental health condition? If you so could you please describe the incident. - Selected Choice  \\\n",
       "0                                                 No                                                                                                                           \n",
       "1                                                 No                                                                                                                           \n",
       "2                                          Witnessed                                                                                                                           \n",
       "3                                        Experienced                                                                                                                           \n",
       "4                                        Experienced                                                                                                                           \n",
       "\n",
       "  Have you ever experienced or witnessed stigma against person or people with a mental health condition? If you so could you please describe the incident. - Experienced - Text  \\\n",
       "0                                                NaN                                                                                                                              \n",
       "1                                                NaN                                                                                                                              \n",
       "2                                                NaN                                                                                                                              \n",
       "3  Was told to go off antidepressants because dep...                                                                                                                              \n",
       "4        Accused of seeking attention / exaggeration                                                                                                                              \n",
       "\n",
       "  Have you ever experienced or witnessed stigma against person or people with a mental health condition? If you so could you please describe the incident. - Witnessed - Text  \\\n",
       "0                                                NaN                                                                                                                            \n",
       "1                                                NaN                                                                                                                            \n",
       "2  Have seen relatives with mental health conditi...                                                                                                                            \n",
       "3                                                NaN                                                                                                                            \n",
       "4                                                NaN                                                                                                                            \n",
       "\n",
       "  Familiarity with Mental Illness (Yes or No). - 1. My job involves providing services/treatment for persons with mental illness.  \\\n",
       "0                                                 No                                                                                \n",
       "1                                                 No                                                                                \n",
       "2                                                Yes                                                                                \n",
       "3                                                 No                                                                                \n",
       "4                                                 No                                                                                \n",
       "\n",
       "  Familiarity with Mental Illness (Yes or No). - 2. I have observed, in passing, a person I believe may have had a severe mental illness.  \\\n",
       "0                                                Yes                                                                                        \n",
       "1                                                Yes                                                                                        \n",
       "2                                                Yes                                                                                        \n",
       "3                                                Yes                                                                                        \n",
       "4                                                Yes                                                                                        \n",
       "\n",
       "  Familiarity with Mental Illness (Yes or No). - 3. I have observed persons with a severe mental illness on a frequent basis.  \\\n",
       "0                                                 No                                                                            \n",
       "1                                                 No                                                                            \n",
       "2                                                 No                                                                            \n",
       "3                                                Yes                                                                            \n",
       "4                                                 No                                                                            \n",
       "\n",
       "  Familiarity with Mental Illness (Yes or No). - 4. I have worked with a person who had a severe mental illness at my place of employment.  \\\n",
       "0                                                 No                                                                                         \n",
       "1                                                 No                                                                                         \n",
       "2                                                Yes                                                                                         \n",
       "3                                                Yes                                                                                         \n",
       "4                                                 No                                                                                         \n",
       "\n",
       "  Familiarity with Mental Illness (Yes or No). - 5. A friend of the family has a severe mental illness.  \\\n",
       "0                                                 No                                                      \n",
       "1                                                Yes                                                      \n",
       "2                                                 No                                                      \n",
       "3                                                Yes                                                      \n",
       "4                                                Yes                                                      \n",
       "\n",
       "  Familiarity with Mental Illness (Yes or No). - 6. I have a relative who has a severe mental illness.  \\\n",
       "0                                                 No                                                     \n",
       "1                                                Yes                                                     \n",
       "2                                                 No                                                     \n",
       "3                                                Yes                                                     \n",
       "4                                                Yes                                                     \n",
       "\n",
       "  Familiarity with Mental Illness (Yes or No). - 7. I live with a person who has a severe mental illness.  \n",
       "0                                                 No                                                       \n",
       "1                                                 No                                                       \n",
       "2                                                 No                                                       \n",
       "3                                                Yes                                                       \n",
       "4                                                 No                                                       \n",
       "\n",
       "[5 rows x 28 columns]"
      ]
     },
     "execution_count": 4,
     "metadata": {},
     "output_type": "execute_result"
    }
   ],
   "source": [
    "mental_health_df.head()"
   ]
  },
  {
   "cell_type": "code",
   "execution_count": 5,
   "id": "86a992ba-aa58-4fc0-a5c9-1af80713e641",
   "metadata": {},
   "outputs": [
    {
     "data": {
      "text/plain": [
       "Index(['Recorded Date', 'What is your age?', 'What is your gender?',\n",
       "       'What is your marital status?',\n",
       "       'What is the highest degree or level of school you have completed?',\n",
       "       'What is your current employment status?',\n",
       "       'How would you describe your income level?', 'Religious Affiliation',\n",
       "       'What is your nationality?',\n",
       "       'Which South Asian heritage do you come from?', 'Country of residence',\n",
       "       'Do you have a formal diagnosis of a mental health condition from a professional? - Selected Choice',\n",
       "       'Do you have a formal diagnosis of a mental health condition from a professional? - Yes (please state your diagnosis) - Text',\n",
       "       'Do you have a family history of mental health conditions?',\n",
       "       'What do you believe is the cause for mental health conditions?',\n",
       "       'In your opinion, do you believe mental health conditions can be treated? If yes, how? If no, why not? - Selected Choice',\n",
       "       'In your opinion, do you believe mental health conditions can be treated? If yes, how? If no, why not? - Yes - Text',\n",
       "       'In your opinion, do you believe mental health conditions can be treated? If yes, how? If no, why not? - No - Text',\n",
       "       'Have you ever experienced or witnessed stigma against person or people with a mental health condition? If you so could you please describe the incident. - Selected Choice',\n",
       "       'Have you ever experienced or witnessed stigma against person or people with a mental health condition? If you so could you please describe the incident. - Experienced - Text',\n",
       "       'Have you ever experienced or witnessed stigma against person or people with a mental health condition? If you so could you please describe the incident. - Witnessed - Text',\n",
       "       'Familiarity with Mental Illness (Yes or No). - 1. My job involves providing services/treatment for persons with mental illness.',\n",
       "       'Familiarity with Mental Illness (Yes or No). - 2. I have observed, in passing, a person I believe may have had a severe mental illness.',\n",
       "       'Familiarity with Mental Illness (Yes or No). - 3. I have observed persons with a severe mental illness on a frequent basis.',\n",
       "       'Familiarity with Mental Illness (Yes or No). - 4. I have worked with a person who had a severe mental illness at my place of employment.',\n",
       "       'Familiarity with Mental Illness (Yes or No). - 5. A friend of the family has a severe mental illness.',\n",
       "       'Familiarity with Mental Illness (Yes or No). - 6. I have a relative who has a severe mental illness.',\n",
       "       'Familiarity with Mental Illness (Yes or No). - 7. I live with a person who has a severe mental illness.'],\n",
       "      dtype='object')"
      ]
     },
     "execution_count": 5,
     "metadata": {},
     "output_type": "execute_result"
    }
   ],
   "source": [
    "mental_health_df.columns"
   ]
  },
  {
   "cell_type": "code",
   "execution_count": 6,
   "id": "702564ac-ffa3-4fc5-8e2f-ae85a95e30c4",
   "metadata": {},
   "outputs": [
    {
     "data": {
      "text/plain": [
       "Recorded Date                                                                                                                                                                    529\n",
       "What is your age?                                                                                                                                                                529\n",
       "What is your gender?                                                                                                                                                             529\n",
       "What is your marital status?                                                                                                                                                     529\n",
       "What is the highest degree or level of school you have completed?                                                                                                                529\n",
       "What is your current employment status?                                                                                                                                          529\n",
       "How would you describe your income level?                                                                                                                                        529\n",
       "Religious Affiliation                                                                                                                                                            519\n",
       "What is your nationality?                                                                                                                                                        529\n",
       "Which South Asian heritage do you come from?                                                                                                                                     523\n",
       "Country of residence                                                                                                                                                             529\n",
       "Do you have a formal diagnosis of a mental health condition from a professional? - Selected Choice                                                                               529\n",
       "Do you have a formal diagnosis of a mental health condition from a professional? - Yes (please state your diagnosis) - Text                                                       66\n",
       "Do you have a family history of mental health conditions?                                                                                                                        529\n",
       "What do you believe is the cause for mental health conditions?                                                                                                                   526\n",
       "In your opinion, do you believe mental health conditions can be treated? If yes, how? If no, why not? - Selected Choice                                                          529\n",
       "In your opinion, do you believe mental health conditions can be treated? If yes, how? If no, why not? - Yes - Text                                                               396\n",
       "In your opinion, do you believe mental health conditions can be treated? If yes, how? If no, why not? - No - Text                                                                 16\n",
       "Have you ever experienced or witnessed stigma against person or people with a mental health condition? If you so could you please describe the incident. - Selected Choice       529\n",
       "Have you ever experienced or witnessed stigma against person or people with a mental health condition? If you so could you please describe the incident. - Experienced - Text    100\n",
       "Have you ever experienced or witnessed stigma against person or people with a mental health condition? If you so could you please describe the incident. - Witnessed - Text      100\n",
       "Familiarity with Mental Illness (Yes or No). - 1. My job involves providing services/treatment for persons with mental illness.                                                  529\n",
       "Familiarity with Mental Illness (Yes or No). - 2. I have observed, in passing, a person I believe may have had a severe mental illness.                                          529\n",
       "Familiarity with Mental Illness (Yes or No). - 3. I have observed persons with a severe mental illness on a frequent basis.                                                      529\n",
       "Familiarity with Mental Illness (Yes or No). - 4. I have worked with a person who had a severe mental illness at my place of employment.                                         529\n",
       "Familiarity with Mental Illness (Yes or No). - 5. A friend of the family has a severe mental illness.                                                                            529\n",
       "Familiarity with Mental Illness (Yes or No). - 6. I have a relative who has a severe mental illness.                                                                             529\n",
       "Familiarity with Mental Illness (Yes or No). - 7. I live with a person who has a severe mental illness.                                                                          529\n",
       "dtype: int64"
      ]
     },
     "execution_count": 6,
     "metadata": {},
     "output_type": "execute_result"
    }
   ],
   "source": [
    "mental_health_df.count()"
   ]
  },
  {
   "cell_type": "code",
   "execution_count": 7,
   "id": "7816e268-dbbe-4277-8cce-bf61d1d07079",
   "metadata": {},
   "outputs": [],
   "source": [
    "mental_health_selected_df = mental_health_df[['What is your nationality?','Which South Asian heritage do you come from?', 'Country of residence', 'Do you have a formal diagnosis of a mental health condition from a professional? - Yes (please state your diagnosis) - Text',  'In your opinion, do you believe mental health conditions can be treated? If yes, how? If no, why not? - Yes - Text',\n",
    "       'In your opinion, do you believe mental health conditions can be treated? If yes, how? If no, why not? - No - Text', 'Have you ever experienced or witnessed stigma against person or people with a mental health condition? If you so could you please describe the incident. - Experienced - Text', 'Have you ever experienced or witnessed stigma against person or people with a mental health condition? If you so could you please describe the incident. - Witnessed - Text']]\n"
   ]
  },
  {
   "cell_type": "code",
   "execution_count": 8,
   "id": "cb31e333-43ce-4bcf-b4fc-c0511854a9cc",
   "metadata": {},
   "outputs": [
    {
     "data": {
      "text/html": [
       "<div>\n",
       "<style scoped>\n",
       "    .dataframe tbody tr th:only-of-type {\n",
       "        vertical-align: middle;\n",
       "    }\n",
       "\n",
       "    .dataframe tbody tr th {\n",
       "        vertical-align: top;\n",
       "    }\n",
       "\n",
       "    .dataframe thead th {\n",
       "        text-align: right;\n",
       "    }\n",
       "</style>\n",
       "<table border=\"1\" class=\"dataframe\">\n",
       "  <thead>\n",
       "    <tr style=\"text-align: right;\">\n",
       "      <th></th>\n",
       "      <th>What is your nationality?</th>\n",
       "      <th>Which South Asian heritage do you come from?</th>\n",
       "      <th>Country of residence</th>\n",
       "      <th>Do you have a formal diagnosis of a mental health condition from a professional? - Yes (please state your diagnosis) - Text</th>\n",
       "      <th>In your opinion, do you believe mental health conditions can be treated? If yes, how? If no, why not? - Yes - Text</th>\n",
       "      <th>In your opinion, do you believe mental health conditions can be treated? If yes, how? If no, why not? - No - Text</th>\n",
       "      <th>Have you ever experienced or witnessed stigma against person or people with a mental health condition? If you so could you please describe the incident. - Experienced - Text</th>\n",
       "      <th>Have you ever experienced or witnessed stigma against person or people with a mental health condition? If you so could you please describe the incident. - Witnessed - Text</th>\n",
       "    </tr>\n",
       "  </thead>\n",
       "  <tbody>\n",
       "    <tr>\n",
       "      <th>0</th>\n",
       "      <td>Maldivian</td>\n",
       "      <td>Maldivian</td>\n",
       "      <td>United Kingdom</td>\n",
       "      <td>NaN</td>\n",
       "      <td>Yes, medical treatment, therapy</td>\n",
       "      <td>NaN</td>\n",
       "      <td>NaN</td>\n",
       "      <td>NaN</td>\n",
       "    </tr>\n",
       "    <tr>\n",
       "      <th>1</th>\n",
       "      <td>British - Maldivian</td>\n",
       "      <td>Maldivian</td>\n",
       "      <td>UK</td>\n",
       "      <td>NaN</td>\n",
       "      <td>Proper guidance from people around you. Afford...</td>\n",
       "      <td>NaN</td>\n",
       "      <td>NaN</td>\n",
       "      <td>NaN</td>\n",
       "    </tr>\n",
       "    <tr>\n",
       "      <th>2</th>\n",
       "      <td>Maldivian</td>\n",
       "      <td>Maldives</td>\n",
       "      <td>Maldives</td>\n",
       "      <td>NaN</td>\n",
       "      <td>Therapies and medications</td>\n",
       "      <td>NaN</td>\n",
       "      <td>NaN</td>\n",
       "      <td>Have seen relatives with mental health conditi...</td>\n",
       "    </tr>\n",
       "    <tr>\n",
       "      <th>3</th>\n",
       "      <td>Maldivian</td>\n",
       "      <td>Maldives</td>\n",
       "      <td>England</td>\n",
       "      <td>GAD, panic disorder, clinical depression</td>\n",
       "      <td>NaN</td>\n",
       "      <td>They can be brought under control but not cured.</td>\n",
       "      <td>Was told to go off antidepressants because dep...</td>\n",
       "      <td>NaN</td>\n",
       "    </tr>\n",
       "    <tr>\n",
       "      <th>4</th>\n",
       "      <td>Maldivian</td>\n",
       "      <td>Maldivian</td>\n",
       "      <td>Maldives</td>\n",
       "      <td>C-PTSD</td>\n",
       "      <td>Appropriate behavioural therapy</td>\n",
       "      <td>NaN</td>\n",
       "      <td>Accused of seeking attention / exaggeration</td>\n",
       "      <td>NaN</td>\n",
       "    </tr>\n",
       "  </tbody>\n",
       "</table>\n",
       "</div>"
      ],
      "text/plain": [
       "  What is your nationality? Which South Asian heritage do you come from?  \\\n",
       "0                 Maldivian                                    Maldivian   \n",
       "1       British - Maldivian                                    Maldivian   \n",
       "2                 Maldivian                                     Maldives   \n",
       "3                 Maldivian                                     Maldives   \n",
       "4                 Maldivian                                    Maldivian   \n",
       "\n",
       "  Country of residence  \\\n",
       "0       United Kingdom   \n",
       "1                   UK   \n",
       "2             Maldives   \n",
       "3              England   \n",
       "4             Maldives   \n",
       "\n",
       "  Do you have a formal diagnosis of a mental health condition from a professional? - Yes (please state your diagnosis) - Text  \\\n",
       "0                                                NaN                                                                            \n",
       "1                                                NaN                                                                            \n",
       "2                                                NaN                                                                            \n",
       "3           GAD, panic disorder, clinical depression                                                                            \n",
       "4                                             C-PTSD                                                                            \n",
       "\n",
       "  In your opinion, do you believe mental health conditions can be treated? If yes, how? If no, why not? - Yes - Text  \\\n",
       "0                    Yes, medical treatment, therapy                                                                   \n",
       "1  Proper guidance from people around you. Afford...                                                                   \n",
       "2                          Therapies and medications                                                                   \n",
       "3                                                NaN                                                                   \n",
       "4                    Appropriate behavioural therapy                                                                   \n",
       "\n",
       "  In your opinion, do you believe mental health conditions can be treated? If yes, how? If no, why not? - No - Text  \\\n",
       "0                                                NaN                                                                  \n",
       "1                                                NaN                                                                  \n",
       "2                                                NaN                                                                  \n",
       "3   They can be brought under control but not cured.                                                                  \n",
       "4                                                NaN                                                                  \n",
       "\n",
       "  Have you ever experienced or witnessed stigma against person or people with a mental health condition? If you so could you please describe the incident. - Experienced - Text  \\\n",
       "0                                                NaN                                                                                                                              \n",
       "1                                                NaN                                                                                                                              \n",
       "2                                                NaN                                                                                                                              \n",
       "3  Was told to go off antidepressants because dep...                                                                                                                              \n",
       "4        Accused of seeking attention / exaggeration                                                                                                                              \n",
       "\n",
       "  Have you ever experienced or witnessed stigma against person or people with a mental health condition? If you so could you please describe the incident. - Witnessed - Text  \n",
       "0                                                NaN                                                                                                                           \n",
       "1                                                NaN                                                                                                                           \n",
       "2  Have seen relatives with mental health conditi...                                                                                                                           \n",
       "3                                                NaN                                                                                                                           \n",
       "4                                                NaN                                                                                                                           "
      ]
     },
     "execution_count": 8,
     "metadata": {},
     "output_type": "execute_result"
    }
   ],
   "source": [
    "mental_health_selected_df.head()"
   ]
  },
  {
   "cell_type": "code",
   "execution_count": 9,
   "id": "3d13180c-40bb-49d5-b041-d1b1d606c78c",
   "metadata": {},
   "outputs": [
    {
     "data": {
      "text/plain": [
       "What is your nationality?                                                                                                                                                        529\n",
       "Which South Asian heritage do you come from?                                                                                                                                     523\n",
       "Country of residence                                                                                                                                                             529\n",
       "Do you have a formal diagnosis of a mental health condition from a professional? - Yes (please state your diagnosis) - Text                                                       66\n",
       "In your opinion, do you believe mental health conditions can be treated? If yes, how? If no, why not? - Yes - Text                                                               396\n",
       "In your opinion, do you believe mental health conditions can be treated? If yes, how? If no, why not? - No - Text                                                                 16\n",
       "Have you ever experienced or witnessed stigma against person or people with a mental health condition? If you so could you please describe the incident. - Experienced - Text    100\n",
       "Have you ever experienced or witnessed stigma against person or people with a mental health condition? If you so could you please describe the incident. - Witnessed - Text      100\n",
       "dtype: int64"
      ]
     },
     "execution_count": 9,
     "metadata": {},
     "output_type": "execute_result"
    }
   ],
   "source": [
    "#Identify incomplete rows in dataset\n",
    "mental_health_selected_df.count()"
   ]
  },
  {
   "cell_type": "code",
   "execution_count": 10,
   "id": "386a7480-b84e-465d-95b6-6d6c602f2f94",
   "metadata": {},
   "outputs": [
    {
     "data": {
      "text/plain": [
       "array(['Maldivian', 'British - Maldivian', 'Indian', 'British',\n",
       "       'maldivian', 'Maldives', 'Sri Lankan', 'maldives', 'U.S.',\n",
       "       'American', 'INDIA', 'Bangladeshi', 'british', 'Malidivian',\n",
       "       'Nepal', 'Pakistani/Irish', 'India', 'Hindu', 'hindu', 'indian',\n",
       "       'INDIAN', 'Hindustani', 'Canadian', 'MALDIVIAN', 'Indian American',\n",
       "       'british asian', 'Italian', 'Pakistani', 'Bangladesh', 'Nepali',\n",
       "       'Nepalese', 'bangladeshi', 'pakistani', 'Pakistan', 'pakistan',\n",
       "       'لاہور', 'Muslim'], dtype=object)"
      ]
     },
     "execution_count": 10,
     "metadata": {},
     "output_type": "execute_result"
    }
   ],
   "source": [
    "#What were the responses to this question? \n",
    "mental_health_selected_df['What is your nationality?'].unique()"
   ]
  },
  {
   "cell_type": "code",
   "execution_count": 11,
   "id": "bad1bdfe-ca1e-4755-a6cc-2b3ab880d372",
   "metadata": {},
   "outputs": [
    {
     "name": "stderr",
     "output_type": "stream",
     "text": [
      "C:\\Users\\arpitas\\AppData\\Local\\Temp\\ipykernel_16272\\2498913622.py:3: SettingWithCopyWarning: \n",
      "A value is trying to be set on a copy of a slice from a DataFrame.\n",
      "Try using .loc[row_indexer,col_indexer] = value instead\n",
      "\n",
      "See the caveats in the documentation: https://pandas.pydata.org/pandas-docs/stable/user_guide/indexing.html#returning-a-view-versus-a-copy\n",
      "  mental_health_selected_df['What is your nationality?'] = mental_health_selected_df['What is your nationality?'].replace({'maldivian': 'Maldivian',\n"
     ]
    },
    {
     "data": {
      "text/plain": [
       "array(['Maldivian', 'British - Maldivian', 'Indian', 'British',\n",
       "       'Sri Lankan', 'U.S.', 'American', 'INDIA', 'Bangladeshi',\n",
       "       'british', 'Malidivian', 'Nepal', 'Pakistani/Irish', 'India',\n",
       "       'Hindu', 'hindu', 'indian', 'INDIAN', 'Hindustani', 'Canadian',\n",
       "       'Indian American', 'british asian', 'Italian', 'Pakistani',\n",
       "       'Bangladesh', 'Nepali', 'Nepalese', 'bangladeshi', 'pakistani',\n",
       "       'Pakistan', 'pakistan', 'لاہور', 'Muslim'], dtype=object)"
      ]
     },
     "execution_count": 11,
     "metadata": {},
     "output_type": "execute_result"
    }
   ],
   "source": [
    "# Clean up Nationality category. Make text consistent for nationality\n",
    "#Doing this to Maldives:\n",
    "mental_health_selected_df['What is your nationality?'] = mental_health_selected_df['What is your nationality?'].replace({'maldivian': 'Maldivian', \n",
    "                                                                                                                         'Maldives': 'Maldivian',\n",
    "                                                                                                                        'maldives': 'Maldivian',\n",
    "                                                                                                                        'MALDIVIAN': 'Maldivian'})\n",
    "mental_health_selected_df['What is your nationality?'].unique()"
   ]
  },
  {
   "cell_type": "code",
   "execution_count": 12,
   "id": "c48b48f9-70a4-4916-b185-e17315431f99",
   "metadata": {},
   "outputs": [
    {
     "name": "stderr",
     "output_type": "stream",
     "text": [
      "C:\\Users\\arpitas\\AppData\\Local\\Temp\\ipykernel_16272\\987332262.py:2: SettingWithCopyWarning: \n",
      "A value is trying to be set on a copy of a slice from a DataFrame.\n",
      "Try using .loc[row_indexer,col_indexer] = value instead\n",
      "\n",
      "See the caveats in the documentation: https://pandas.pydata.org/pandas-docs/stable/user_guide/indexing.html#returning-a-view-versus-a-copy\n",
      "  mental_health_selected_df['What is your nationality?'] = mental_health_selected_df['What is your nationality?'].replace({'british': 'British',\n"
     ]
    },
    {
     "data": {
      "text/plain": [
       "array(['Maldivian', 'British', 'Indian', 'Sri Lankan', 'U.S.', 'American',\n",
       "       'INDIA', 'Bangladeshi', 'Malidivian', 'Nepal', 'Pakistani/Irish',\n",
       "       'India', 'Hindu', 'hindu', 'indian', 'INDIAN', 'Hindustani',\n",
       "       'Canadian', 'Indian American', 'Italian', 'Pakistani',\n",
       "       'Bangladesh', 'Nepali', 'Nepalese', 'bangladeshi', 'pakistani',\n",
       "       'Pakistan', 'pakistan', 'لاہور', 'Muslim'], dtype=object)"
      ]
     },
     "execution_count": 12,
     "metadata": {},
     "output_type": "execute_result"
    }
   ],
   "source": [
    "#Doing this to British:\n",
    "mental_health_selected_df['What is your nationality?'] = mental_health_selected_df['What is your nationality?'].replace({'british': 'British', \n",
    "                                                                                                                         'British - Maldivian': 'British',\n",
    "                                                                                                                        'british asian': 'British'})\n",
    "mental_health_selected_df['What is your nationality?'].unique()"
   ]
  },
  {
   "cell_type": "code",
   "execution_count": 13,
   "id": "6e546164-1ca2-4149-b535-4c590f4c9313",
   "metadata": {},
   "outputs": [
    {
     "name": "stderr",
     "output_type": "stream",
     "text": [
      "C:\\Users\\arpitas\\AppData\\Local\\Temp\\ipykernel_16272\\1666028998.py:2: SettingWithCopyWarning: \n",
      "A value is trying to be set on a copy of a slice from a DataFrame.\n",
      "Try using .loc[row_indexer,col_indexer] = value instead\n",
      "\n",
      "See the caveats in the documentation: https://pandas.pydata.org/pandas-docs/stable/user_guide/indexing.html#returning-a-view-versus-a-copy\n",
      "  mental_health_selected_df['What is your nationality?'] = mental_health_selected_df['What is your nationality?'].replace({'INDIA': 'Indian',\n"
     ]
    },
    {
     "data": {
      "text/plain": [
       "array(['Maldivian', 'British', 'Indian', 'Sri Lankan', 'U.S.', 'American',\n",
       "       'Bangladeshi', 'Malidivian', 'Nepal', 'Pakistani/Irish',\n",
       "       'Canadian', 'Indian American', 'Italian', 'Pakistani',\n",
       "       'Bangladesh', 'Nepali', 'Nepalese', 'bangladeshi', 'pakistani',\n",
       "       'Pakistan', 'pakistan', 'لاہور', 'Muslim'], dtype=object)"
      ]
     },
     "execution_count": 13,
     "metadata": {},
     "output_type": "execute_result"
    }
   ],
   "source": [
    "#Doing this to British:\n",
    "mental_health_selected_df['What is your nationality?'] = mental_health_selected_df['What is your nationality?'].replace({'INDIA': 'Indian', \n",
    "                                                                                                                         'India': 'Indian',\n",
    "                                                                                                                        'Hindu': 'Indian',\n",
    "                                                                                                                        'hindu': 'Indian',\n",
    "                                                                                                                        'INDIAN': 'Indian',\n",
    "                                                                                                                        'indian': 'Indian',\n",
    "                                                                                                                        'Hindustani': 'Indian'})\n",
    "mental_health_selected_df['What is your nationality?'].unique()"
   ]
  },
  {
   "cell_type": "code",
   "execution_count": 14,
   "id": "8007e4b8-241a-4696-9e25-75c8da2b12f7",
   "metadata": {},
   "outputs": [
    {
     "name": "stderr",
     "output_type": "stream",
     "text": [
      "C:\\Users\\arpitas\\AppData\\Local\\Temp\\ipykernel_16272\\1568063978.py:2: SettingWithCopyWarning: \n",
      "A value is trying to be set on a copy of a slice from a DataFrame.\n",
      "Try using .loc[row_indexer,col_indexer] = value instead\n",
      "\n",
      "See the caveats in the documentation: https://pandas.pydata.org/pandas-docs/stable/user_guide/indexing.html#returning-a-view-versus-a-copy\n",
      "  mental_health_selected_df['What is your nationality?'] = mental_health_selected_df['What is your nationality?'].replace({'Pakistan': 'Pakistani',\n"
     ]
    },
    {
     "data": {
      "text/plain": [
       "array(['Maldivian', 'British', 'Indian', 'Sri Lankan', 'U.S.', 'American',\n",
       "       'Bangladeshi', 'Malidivian', 'Nepal', 'Pakistani/Irish',\n",
       "       'Canadian', 'Indian American', 'Italian', 'Pakistani',\n",
       "       'Bangladesh', 'Nepali', 'Nepalese', 'bangladeshi', 'لاہور',\n",
       "       'Muslim'], dtype=object)"
      ]
     },
     "execution_count": 14,
     "metadata": {},
     "output_type": "execute_result"
    }
   ],
   "source": [
    "#Doing Pakistani here\n",
    "mental_health_selected_df['What is your nationality?'] = mental_health_selected_df['What is your nationality?'].replace({'Pakistan': 'Pakistani', \n",
    "                                                                                                                         'pakistan': 'Pakistani',\n",
    "                                                                                                                        'pakistani': 'Pakistani'})\n",
    "mental_health_selected_df['What is your nationality?'].unique()\n"
   ]
  },
  {
   "cell_type": "code",
   "execution_count": 15,
   "id": "0a3cb043-485c-4bd0-97d9-f9c0313418c1",
   "metadata": {},
   "outputs": [
    {
     "name": "stderr",
     "output_type": "stream",
     "text": [
      "C:\\Users\\arpitas\\AppData\\Local\\Temp\\ipykernel_16272\\4111578356.py:2: SettingWithCopyWarning: \n",
      "A value is trying to be set on a copy of a slice from a DataFrame.\n",
      "Try using .loc[row_indexer,col_indexer] = value instead\n",
      "\n",
      "See the caveats in the documentation: https://pandas.pydata.org/pandas-docs/stable/user_guide/indexing.html#returning-a-view-versus-a-copy\n",
      "  mental_health_selected_df['What is your nationality?'] = mental_health_selected_df['What is your nationality?'].replace({'U.S.': 'American',\n"
     ]
    },
    {
     "data": {
      "text/plain": [
       "array(['Maldivian', 'British', 'Indian', 'Sri Lankan', 'American',\n",
       "       'Bangladeshi', 'Malidivian', 'Nepal', 'Pakistani/Irish',\n",
       "       'Canadian', 'Italian', 'Pakistani', 'Bangladesh', 'Nepali',\n",
       "       'Nepalese', 'bangladeshi', 'لاہور', 'Muslim'], dtype=object)"
      ]
     },
     "execution_count": 15,
     "metadata": {},
     "output_type": "execute_result"
    }
   ],
   "source": [
    "#Doing Pakistani here\n",
    "mental_health_selected_df['What is your nationality?'] = mental_health_selected_df['What is your nationality?'].replace({'U.S.': 'American', \n",
    "                                                                                                                         'Indian American': 'American'})\n",
    "                                                                                        \n",
    "mental_health_selected_df['What is your nationality?'].unique()"
   ]
  },
  {
   "cell_type": "code",
   "execution_count": 16,
   "id": "a7a0d77b-c85c-464f-a4a4-d48e290d582f",
   "metadata": {},
   "outputs": [
    {
     "name": "stderr",
     "output_type": "stream",
     "text": [
      "C:\\Users\\arpitas\\AppData\\Local\\Temp\\ipykernel_16272\\2603142518.py:2: SettingWithCopyWarning: \n",
      "A value is trying to be set on a copy of a slice from a DataFrame.\n",
      "Try using .loc[row_indexer,col_indexer] = value instead\n",
      "\n",
      "See the caveats in the documentation: https://pandas.pydata.org/pandas-docs/stable/user_guide/indexing.html#returning-a-view-versus-a-copy\n",
      "  mental_health_selected_df['What is your nationality?'] = mental_health_selected_df['What is your nationality?'].replace({'Nepal': 'Nepali',\n"
     ]
    },
    {
     "data": {
      "text/plain": [
       "array(['Maldivian', 'British', 'Indian', 'Sri Lankan', 'American',\n",
       "       'Bangladeshi', 'Malidivian', 'Nepali', 'Pakistani/Irish',\n",
       "       'Canadian', 'Italian', 'Pakistani', 'Bangladesh', 'bangladeshi',\n",
       "       'لاہور', 'Muslim'], dtype=object)"
      ]
     },
     "execution_count": 16,
     "metadata": {},
     "output_type": "execute_result"
    }
   ],
   "source": [
    "#Doing Nepali here\n",
    "mental_health_selected_df['What is your nationality?'] = mental_health_selected_df['What is your nationality?'].replace({'Nepal': 'Nepali', \n",
    "                                                                                                                         'Nepalese': 'Nepali'})\n",
    "                                                                                        \n",
    "mental_health_selected_df['What is your nationality?'].unique()"
   ]
  },
  {
   "cell_type": "code",
   "execution_count": 17,
   "id": "a86abff2-f8ef-4fcc-b17d-7154d1b63336",
   "metadata": {},
   "outputs": [
    {
     "name": "stderr",
     "output_type": "stream",
     "text": [
      "C:\\Users\\arpitas\\AppData\\Local\\Temp\\ipykernel_16272\\2372930763.py:2: SettingWithCopyWarning: \n",
      "A value is trying to be set on a copy of a slice from a DataFrame.\n",
      "Try using .loc[row_indexer,col_indexer] = value instead\n",
      "\n",
      "See the caveats in the documentation: https://pandas.pydata.org/pandas-docs/stable/user_guide/indexing.html#returning-a-view-versus-a-copy\n",
      "  mental_health_selected_df['What is your nationality?'] = mental_health_selected_df['What is your nationality?'].replace({'Bangladesh': 'Bangladeshi',\n"
     ]
    },
    {
     "data": {
      "text/plain": [
       "array(['Maldivian', 'British', 'Indian', 'Sri Lankan', 'American',\n",
       "       'Bangladeshi', 'Malidivian', 'Nepali', 'Pakistani/Irish',\n",
       "       'Canadian', 'Italian', 'Pakistani', 'لاہور', 'Muslim'],\n",
       "      dtype=object)"
      ]
     },
     "execution_count": 17,
     "metadata": {},
     "output_type": "execute_result"
    }
   ],
   "source": [
    "#Doing Nepali here\n",
    "mental_health_selected_df['What is your nationality?'] = mental_health_selected_df['What is your nationality?'].replace({'Bangladesh': 'Bangladeshi', \n",
    "                                                                                                                         'bangladeshi': 'Bangladeshi'})\n",
    "                                                                                        \n",
    "mental_health_selected_df['What is your nationality?'].unique()"
   ]
  },
  {
   "cell_type": "code",
   "execution_count": 74,
   "id": "5a410c88-2513-4719-a546-0a98c0cbac4d",
   "metadata": {},
   "outputs": [
    {
     "ename": "KeyError",
     "evalue": "'What is your nationality?'",
     "output_type": "error",
     "traceback": [
      "\u001b[1;31m---------------------------------------------------------------------------\u001b[0m",
      "\u001b[1;31mKeyError\u001b[0m                                  Traceback (most recent call last)",
      "File \u001b[1;32m~\\AppData\\Local\\anaconda3\\Lib\\site-packages\\pandas\\core\\indexes\\base.py:3805\u001b[0m, in \u001b[0;36mIndex.get_loc\u001b[1;34m(self, key)\u001b[0m\n\u001b[0;32m   3804\u001b[0m \u001b[38;5;28;01mtry\u001b[39;00m:\n\u001b[1;32m-> 3805\u001b[0m     \u001b[38;5;28;01mreturn\u001b[39;00m \u001b[38;5;28mself\u001b[39m\u001b[38;5;241m.\u001b[39m_engine\u001b[38;5;241m.\u001b[39mget_loc(casted_key)\n\u001b[0;32m   3806\u001b[0m \u001b[38;5;28;01mexcept\u001b[39;00m \u001b[38;5;167;01mKeyError\u001b[39;00m \u001b[38;5;28;01mas\u001b[39;00m err:\n",
      "File \u001b[1;32mindex.pyx:167\u001b[0m, in \u001b[0;36mpandas._libs.index.IndexEngine.get_loc\u001b[1;34m()\u001b[0m\n",
      "File \u001b[1;32mindex.pyx:196\u001b[0m, in \u001b[0;36mpandas._libs.index.IndexEngine.get_loc\u001b[1;34m()\u001b[0m\n",
      "File \u001b[1;32mpandas\\\\_libs\\\\hashtable_class_helper.pxi:7081\u001b[0m, in \u001b[0;36mpandas._libs.hashtable.PyObjectHashTable.get_item\u001b[1;34m()\u001b[0m\n",
      "File \u001b[1;32mpandas\\\\_libs\\\\hashtable_class_helper.pxi:7089\u001b[0m, in \u001b[0;36mpandas._libs.hashtable.PyObjectHashTable.get_item\u001b[1;34m()\u001b[0m\n",
      "\u001b[1;31mKeyError\u001b[0m: 'What is your nationality?'",
      "\nThe above exception was the direct cause of the following exception:\n",
      "\u001b[1;31mKeyError\u001b[0m                                  Traceback (most recent call last)",
      "Cell \u001b[1;32mIn[74], line 8\u001b[0m\n\u001b[0;32m      1\u001b[0m \u001b[38;5;66;03m#Okay, looks good, not sure what to do with the one in arabic or the cases with Muslim here, let's count them. \u001b[39;00m\n\u001b[0;32m      2\u001b[0m \u001b[38;5;66;03m#We will leave this and confirm with Shahmsha before doing any further edits on this. \u001b[39;00m\n\u001b[0;32m      3\u001b[0m \u001b[38;5;66;03m#I think we should stick with the South Asian heritage, this will probably be more reflective, checking now. \u001b[39;00m\n\u001b[0;32m      4\u001b[0m \n\u001b[0;32m      5\u001b[0m \u001b[38;5;66;03m#This needs a lot of data cleaning, \u001b[39;00m\n\u001b[0;32m      6\u001b[0m \u001b[38;5;66;03m#Ask S. about Scotland, 'Visakhapatnam', 'Lhaviyani', 'Kaaf' - set to Maldives for testing \u001b[39;00m\n\u001b[1;32m----> 8\u001b[0m mental_health_selected_df[\u001b[38;5;124m'\u001b[39m\u001b[38;5;124mWhat is your nationality?\u001b[39m\u001b[38;5;124m'\u001b[39m] \u001b[38;5;241m=\u001b[39m mental_health_selected_df[\u001b[38;5;124m'\u001b[39m\u001b[38;5;124mWhat is your nationality?\u001b[39m\u001b[38;5;124m'\u001b[39m]\u001b[38;5;241m.\u001b[39mreplace({\u001b[38;5;124m'\u001b[39m\u001b[38;5;124mلاہور\u001b[39m\u001b[38;5;124m'\u001b[39m: \u001b[38;5;124m'\u001b[39m\u001b[38;5;124mPakistani\u001b[39m\u001b[38;5;124m'\u001b[39m},\n\u001b[0;32m      9\u001b[0m                                                                                                                         {\u001b[38;5;124m'\u001b[39m\u001b[38;5;124mPakistani/Irish\u001b[39m\u001b[38;5;124m'\u001b[39m: \u001b[38;5;124m'\u001b[39m\u001b[38;5;124mPakistani\u001b[39m\u001b[38;5;124m'\u001b[39m})\n\u001b[0;32m     11\u001b[0m mental_health_selected_df[\u001b[38;5;124m'\u001b[39m\u001b[38;5;124mWhat is your nationality?\u001b[39m\u001b[38;5;124m'\u001b[39m]\u001b[38;5;241m.\u001b[39munique()\n",
      "File \u001b[1;32m~\\AppData\\Local\\anaconda3\\Lib\\site-packages\\pandas\\core\\frame.py:4102\u001b[0m, in \u001b[0;36mDataFrame.__getitem__\u001b[1;34m(self, key)\u001b[0m\n\u001b[0;32m   4100\u001b[0m \u001b[38;5;28;01mif\u001b[39;00m \u001b[38;5;28mself\u001b[39m\u001b[38;5;241m.\u001b[39mcolumns\u001b[38;5;241m.\u001b[39mnlevels \u001b[38;5;241m>\u001b[39m \u001b[38;5;241m1\u001b[39m:\n\u001b[0;32m   4101\u001b[0m     \u001b[38;5;28;01mreturn\u001b[39;00m \u001b[38;5;28mself\u001b[39m\u001b[38;5;241m.\u001b[39m_getitem_multilevel(key)\n\u001b[1;32m-> 4102\u001b[0m indexer \u001b[38;5;241m=\u001b[39m \u001b[38;5;28mself\u001b[39m\u001b[38;5;241m.\u001b[39mcolumns\u001b[38;5;241m.\u001b[39mget_loc(key)\n\u001b[0;32m   4103\u001b[0m \u001b[38;5;28;01mif\u001b[39;00m is_integer(indexer):\n\u001b[0;32m   4104\u001b[0m     indexer \u001b[38;5;241m=\u001b[39m [indexer]\n",
      "File \u001b[1;32m~\\AppData\\Local\\anaconda3\\Lib\\site-packages\\pandas\\core\\indexes\\base.py:3812\u001b[0m, in \u001b[0;36mIndex.get_loc\u001b[1;34m(self, key)\u001b[0m\n\u001b[0;32m   3807\u001b[0m     \u001b[38;5;28;01mif\u001b[39;00m \u001b[38;5;28misinstance\u001b[39m(casted_key, \u001b[38;5;28mslice\u001b[39m) \u001b[38;5;129;01mor\u001b[39;00m (\n\u001b[0;32m   3808\u001b[0m         \u001b[38;5;28misinstance\u001b[39m(casted_key, abc\u001b[38;5;241m.\u001b[39mIterable)\n\u001b[0;32m   3809\u001b[0m         \u001b[38;5;129;01mand\u001b[39;00m \u001b[38;5;28many\u001b[39m(\u001b[38;5;28misinstance\u001b[39m(x, \u001b[38;5;28mslice\u001b[39m) \u001b[38;5;28;01mfor\u001b[39;00m x \u001b[38;5;129;01min\u001b[39;00m casted_key)\n\u001b[0;32m   3810\u001b[0m     ):\n\u001b[0;32m   3811\u001b[0m         \u001b[38;5;28;01mraise\u001b[39;00m InvalidIndexError(key)\n\u001b[1;32m-> 3812\u001b[0m     \u001b[38;5;28;01mraise\u001b[39;00m \u001b[38;5;167;01mKeyError\u001b[39;00m(key) \u001b[38;5;28;01mfrom\u001b[39;00m \u001b[38;5;21;01merr\u001b[39;00m\n\u001b[0;32m   3813\u001b[0m \u001b[38;5;28;01mexcept\u001b[39;00m \u001b[38;5;167;01mTypeError\u001b[39;00m:\n\u001b[0;32m   3814\u001b[0m     \u001b[38;5;66;03m# If we have a listlike key, _check_indexing_error will raise\u001b[39;00m\n\u001b[0;32m   3815\u001b[0m     \u001b[38;5;66;03m#  InvalidIndexError. Otherwise we fall through and re-raise\u001b[39;00m\n\u001b[0;32m   3816\u001b[0m     \u001b[38;5;66;03m#  the TypeError.\u001b[39;00m\n\u001b[0;32m   3817\u001b[0m     \u001b[38;5;28mself\u001b[39m\u001b[38;5;241m.\u001b[39m_check_indexing_error(key)\n",
      "\u001b[1;31mKeyError\u001b[0m: 'What is your nationality?'"
     ]
    }
   ],
   "source": [
    "#Okay, looks good, not sure what to do with the one in arabic or the cases with Muslim here, let's count them. \n",
    "#We will leave this and confirm with Shahmsha before doing any further edits on this. \n",
    "#I think we should stick with the South Asian heritage, this will probably be more reflective, checking now. \n",
    "\n",
    "#This needs a lot of data cleaning, \n",
    "#Ask S. about Scotland, 'Visakhapatnam', 'Lhaviyani', 'Kaaf' - set to Maldives for testing \n",
    "                                                                                                        \n",
    "mental_health_selected_df['What is your nationality?'] = mental_health_selected_df['What is your nationality?'].replace({'لاہور': 'Pakistani'},\n",
    "                                                                                                                        {'Pakistani/Irish': 'Pakistani'})\n",
    "\n",
    "mental_health_selected_df['What is your nationality?'].unique()\n"
   ]
  },
  {
   "cell_type": "code",
   "execution_count": 19,
   "id": "e9719276-e63c-40dc-8dec-0b48196faf37",
   "metadata": {},
   "outputs": [
    {
     "data": {
      "text/plain": [
       "array(['Maldivian', 'Maldives', 'India', 'Indian',\n",
       "       'No clue. Most probably indian', 'maldives', 'Southern Asia',\n",
       "       'Bangladesh', \"Don't know\", 'Sri Lanka', 'Afghanistan',\n",
       "       'Maldivies', 'pakistani and indian', 'Maldivian?', 'Asian',\n",
       "       'Not sure! India, sinhalese and Arab?', 'Indian/Lankan/Tamil',\n",
       "       'South east asian', 'Ahmedabad', 'SOUTH INDIA', 'Southwest',\n",
       "       'South East Asian', 'Sri Lankan', 'Southeast asia', 'INDO ARYAN',\n",
       "       'Bengali', 'No idea', 'Thaimaru', 'indian', 'Aisa', 'African',\n",
       "       'Bengali [ mix of East and West Bengal]', 'Nepal', 'Brown?',\n",
       "       'South east asia', 'Asia', 'Dont know', 'South', 'Maldives?',\n",
       "       'maldivian', 'Pakistan', 'Dravidian', 'Bengali and The Maldives',\n",
       "       'Mattanchery Palace, Ernakulam, Kerala',\n",
       "       'South Indian- Mappila Community', 'Delhi , India', 'Maharashtra',\n",
       "       'Gujarati', 'Gujarat ,. India',\n",
       "       'Land of Sardar Vallabh bhai Patel', 'Bangladeshi', 'Sinhalese',\n",
       "       'bengali', 'Buddhist', 'South India', 'North indian', 'god knows',\n",
       "       'Andhra', 'Indian heritage', 'India, West Bengal', 'Na', nan,\n",
       "       'South Indian, Malayali Heritage', 'Bengali-Bihari',\n",
       "       'Hindu - Brahmin', 'Indian ( Gujarati )', 'sindhi', 'INDIA',\n",
       "       'Dravidan', 'India, Maharashtra', 'Indian/Bengali',\n",
       "       'Kerela, India.', 'Sindhi', 'Malayali', 'Himachal Pradesh region',\n",
       "       'India, Madhya Pradesh', 'Uttar Pradesh', 'Hindoo', 'Vedic',\n",
       "       'Indo aryans', 'Haryana', 'Bengal', '-', 'Punjab', 'Indo-Aryan',\n",
       "       'I’m not sure', 'South Indian', 'Pakistan, India', 'Pakistani',\n",
       "       'Andhra Pradesh', 'Hinduism', 'Tamil nadu', 'Indo gangetic plains',\n",
       "       '....', 'South Asia', 'West', 'Bengalee', 'Bangali', 'BD',\n",
       "       'Muslim', 'Chettri', '.', 'Banglai',\n",
       "       'Nepali heritage belonging to Brahmin ethnic group', 'Nepali',\n",
       "       'Arya', 'South Indian - Dravidian - Telugu People', 'Mauritius',\n",
       "       'sub continent', 'punjab', 'Canada', 'Punjabi', 'pakistan',\n",
       "       'Mughal', 'Kashmir', '...', 'Jutt', 'Civilization',\n",
       "       'Natural heritage', 'No where', 'Lahore', 'south asian',\n",
       "       'Chaudary', 'Rajpoot', 'Nothing', 'Lahore pakistan',\n",
       "       'Cultural Values and based in Old Works', 'No', 'South asian',\n",
       "       'Study', 'Saudia', 'Urdu speaking', 'Sub continent', 'Nope', 'Non',\n",
       "       'Mirza', 'Rajput', '.....', '18 july 17 August',\n",
       "       '18 july to 17 august', 'Subcontinent', 'Panjabi', \"I don't know\",\n",
       "       'Pashtun', 'Pattoki', 'Kpk', 'لاہور', 'August', \"I don't know.\",\n",
       "       'Srilanka'], dtype=object)"
      ]
     },
     "execution_count": 19,
     "metadata": {},
     "output_type": "execute_result"
    }
   ],
   "source": [
    "mental_health_selected_df['Which South Asian heritage do you come from?'].unique()"
   ]
  },
  {
   "cell_type": "code",
   "execution_count": 20,
   "id": "7bc4c2a7-2205-4e2e-b399-0a5fc9c11689",
   "metadata": {},
   "outputs": [
    {
     "data": {
      "text/plain": [
       "Which South Asian heritage do you come from?\n",
       "Pakistan        82\n",
       "Maldives        71\n",
       "India           68\n",
       "Indian          39\n",
       "Maldivian       30\n",
       "                ..\n",
       "North indian     1\n",
       "Buddhist         1\n",
       "bengali          1\n",
       "Sinhalese        1\n",
       "Srilanka         1\n",
       "Name: count, Length: 149, dtype: int64"
      ]
     },
     "execution_count": 20,
     "metadata": {},
     "output_type": "execute_result"
    }
   ],
   "source": [
    "mental_health_selected_df['Which South Asian heritage do you come from?'].value_counts()\n",
    "#These values are everywhere, need to ask Shahmsha about whether we should drop the ones that say \"I don't know\", or are very vague. "
   ]
  },
  {
   "cell_type": "code",
   "execution_count": 21,
   "id": "223efecb-fd89-4483-a6e9-50becefe6bd3",
   "metadata": {},
   "outputs": [
    {
     "data": {
      "text/html": [
       "<div>\n",
       "<style scoped>\n",
       "    .dataframe tbody tr th:only-of-type {\n",
       "        vertical-align: middle;\n",
       "    }\n",
       "\n",
       "    .dataframe tbody tr th {\n",
       "        vertical-align: top;\n",
       "    }\n",
       "\n",
       "    .dataframe thead th {\n",
       "        text-align: right;\n",
       "    }\n",
       "</style>\n",
       "<table border=\"1\" class=\"dataframe\">\n",
       "  <thead>\n",
       "    <tr style=\"text-align: right;\">\n",
       "      <th></th>\n",
       "      <th>Nationality</th>\n",
       "      <th>Which South Asian heritage do you come from?</th>\n",
       "      <th>Country of residence</th>\n",
       "      <th>Formal Diagnosis</th>\n",
       "      <th>In your opinion, do you believe mental health conditions can be treated?-Yes</th>\n",
       "      <th>In your opinion, do you believe mental health conditions can be treated?-No</th>\n",
       "      <th>Have you ever experienced or witnessed stigma against person or people with a mental health condition? If you so could you please describe the incident. - Experienced</th>\n",
       "      <th>Have you ever experienced or witnessed stigma against person or people with a mental health condition? If you so could you please describe the incident. - Witnessed</th>\n",
       "    </tr>\n",
       "  </thead>\n",
       "  <tbody>\n",
       "    <tr>\n",
       "      <th>0</th>\n",
       "      <td>Maldivian</td>\n",
       "      <td>Maldivian</td>\n",
       "      <td>United Kingdom</td>\n",
       "      <td>NaN</td>\n",
       "      <td>Yes, medical treatment, therapy</td>\n",
       "      <td>NaN</td>\n",
       "      <td>NaN</td>\n",
       "      <td>NaN</td>\n",
       "    </tr>\n",
       "    <tr>\n",
       "      <th>1</th>\n",
       "      <td>British</td>\n",
       "      <td>Maldivian</td>\n",
       "      <td>UK</td>\n",
       "      <td>NaN</td>\n",
       "      <td>Proper guidance from people around you. Afford...</td>\n",
       "      <td>NaN</td>\n",
       "      <td>NaN</td>\n",
       "      <td>NaN</td>\n",
       "    </tr>\n",
       "    <tr>\n",
       "      <th>2</th>\n",
       "      <td>Maldivian</td>\n",
       "      <td>Maldives</td>\n",
       "      <td>Maldives</td>\n",
       "      <td>NaN</td>\n",
       "      <td>Therapies and medications</td>\n",
       "      <td>NaN</td>\n",
       "      <td>NaN</td>\n",
       "      <td>Have seen relatives with mental health conditi...</td>\n",
       "    </tr>\n",
       "    <tr>\n",
       "      <th>3</th>\n",
       "      <td>Maldivian</td>\n",
       "      <td>Maldives</td>\n",
       "      <td>England</td>\n",
       "      <td>GAD, panic disorder, clinical depression</td>\n",
       "      <td>NaN</td>\n",
       "      <td>They can be brought under control but not cured.</td>\n",
       "      <td>Was told to go off antidepressants because dep...</td>\n",
       "      <td>NaN</td>\n",
       "    </tr>\n",
       "    <tr>\n",
       "      <th>4</th>\n",
       "      <td>Maldivian</td>\n",
       "      <td>Maldivian</td>\n",
       "      <td>Maldives</td>\n",
       "      <td>C-PTSD</td>\n",
       "      <td>Appropriate behavioural therapy</td>\n",
       "      <td>NaN</td>\n",
       "      <td>Accused of seeking attention / exaggeration</td>\n",
       "      <td>NaN</td>\n",
       "    </tr>\n",
       "  </tbody>\n",
       "</table>\n",
       "</div>"
      ],
      "text/plain": [
       "  Nationality Which South Asian heritage do you come from?  \\\n",
       "0   Maldivian                                    Maldivian   \n",
       "1     British                                    Maldivian   \n",
       "2   Maldivian                                     Maldives   \n",
       "3   Maldivian                                     Maldives   \n",
       "4   Maldivian                                    Maldivian   \n",
       "\n",
       "  Country of residence                          Formal Diagnosis  \\\n",
       "0       United Kingdom                                       NaN   \n",
       "1                   UK                                       NaN   \n",
       "2             Maldives                                       NaN   \n",
       "3              England  GAD, panic disorder, clinical depression   \n",
       "4             Maldives                                    C-PTSD   \n",
       "\n",
       "  In your opinion, do you believe mental health conditions can be treated?-Yes  \\\n",
       "0                    Yes, medical treatment, therapy                             \n",
       "1  Proper guidance from people around you. Afford...                             \n",
       "2                          Therapies and medications                             \n",
       "3                                                NaN                             \n",
       "4                    Appropriate behavioural therapy                             \n",
       "\n",
       "  In your opinion, do you believe mental health conditions can be treated?-No  \\\n",
       "0                                                NaN                            \n",
       "1                                                NaN                            \n",
       "2                                                NaN                            \n",
       "3   They can be brought under control but not cured.                            \n",
       "4                                                NaN                            \n",
       "\n",
       "  Have you ever experienced or witnessed stigma against person or people with a mental health condition? If you so could you please describe the incident. - Experienced  \\\n",
       "0                                                NaN                                                                                                                       \n",
       "1                                                NaN                                                                                                                       \n",
       "2                                                NaN                                                                                                                       \n",
       "3  Was told to go off antidepressants because dep...                                                                                                                       \n",
       "4        Accused of seeking attention / exaggeration                                                                                                                       \n",
       "\n",
       "  Have you ever experienced or witnessed stigma against person or people with a mental health condition? If you so could you please describe the incident. - Witnessed  \n",
       "0                                                NaN                                                                                                                    \n",
       "1                                                NaN                                                                                                                    \n",
       "2  Have seen relatives with mental health conditi...                                                                                                                    \n",
       "3                                                NaN                                                                                                                    \n",
       "4                                                NaN                                                                                                                    "
      ]
     },
     "execution_count": 21,
     "metadata": {},
     "output_type": "execute_result"
    }
   ],
   "source": [
    "#Let's go ahead and rename the columns now\n",
    "mental_health_selected_df = mental_health_selected_df.rename(columns={\"What is your nationality?\": \"Nationality\",\n",
    "                                                                     \"What South Asian heritage do you come from?\": \"South Asian Heritage\",\n",
    "                                                                     \"Do you have a formal diagnosis of a mental health condition from a professional? - Yes (please state your diagnosis) - Text\":\"Formal Diagnosis\",\n",
    "                                                                     \"In your opinion, do you believe mental health conditions can be treated? If yes, how? If no, why not? - Yes - Text\": \"In your opinion, do you believe mental health conditions can be treated?-Yes\",\n",
    "                                                                     \"In your opinion, do you believe mental health conditions can be treated? If yes, how? If no, why not? - No - Text\": \"In your opinion, do you believe mental health conditions can be treated?-No\",\n",
    "                                                                     \"Have you ever experienced or witnessed stigma against person or people with a mental health condition? If you so could you please describe the incident. - Experienced - Text\":\"Have you ever experienced or witnessed stigma against person or people with a mental health condition? If you so could you please describe the incident. - Experienced\",\n",
    "                                                                     \"Have you ever experienced or witnessed stigma against person or people with a mental health condition? If you so could you please describe the incident. - Witnessed - Text\": \"Have you ever experienced or witnessed stigma against person or people with a mental health condition? If you so could you please describe the incident. - Witnessed\"})\n",
    "\n",
    "mental_health_selected_df.head()"
   ]
  },
  {
   "cell_type": "code",
   "execution_count": 22,
   "id": "cabb0386-7e47-4bc8-9697-0e2486279ddc",
   "metadata": {},
   "outputs": [
    {
     "data": {
      "text/plain": [
       "array(['United Kingdom', 'UK', 'Maldives', 'England', 'Malaysia',\n",
       "       'Sri Lanka', 'Maldivian', 'Kyrgyzstan', 'maldives', 'India',\n",
       "       'Malé', 'United Kingdon', 'Singapore', 'Male', 'United States',\n",
       "       'Usa', 'Indian', \"Male'\", 'INDIA', 'Bangladesh', 'Rwanda',\n",
       "       'Lhaviyani', 'Kaaf', 'Nepal', 'Uk/Scotland', 'Australia', 'india',\n",
       "       'UAE', 'Bharat', 'Delhi', 'Canada', 'USA', 'Germany',\n",
       "       'Visakhapatnam', 'BD', 'Urban', 'Pakistan', 'pakistan', 'Lahore',\n",
       "       'Apartment', 'Lahore, Pakistan', '12 monthd', 'Pakistan Lahore',\n",
       "       'Punjab', 'Asia', 'Srilanka'], dtype=object)"
      ]
     },
     "execution_count": 22,
     "metadata": {},
     "output_type": "execute_result"
    }
   ],
   "source": [
    "mental_health_selected_df['Country of residence'].unique()"
   ]
  },
  {
   "cell_type": "code",
   "execution_count": 23,
   "id": "d9e2fa48-1fab-4d84-87a6-ad90798bd688",
   "metadata": {},
   "outputs": [],
   "source": [
    "#This needs a lot of data cleaning, \n",
    "#Ask S. about Scotland, 'Visakhapatnam', 'Lhaviyani', 'Kaaf' - set to Maldives for testing \n",
    "                                                                                                        \n",
    "mental_health_selected_df['Country of residence'] = mental_health_selected_df['Country of residence'].replace({'UK': 'United Kingdom',\n",
    "                                                                                                               'England': 'United Kingdom',\n",
    "                                                                                                               'United Kingdon': 'United Kingdom',\n",
    "                                                                                                               'Uk/Scotland': 'Scotland',\n",
    "                                                                                                               'Maldivian': 'Maldives',\n",
    "                                                                                                               'maldives': 'Maldives',\n",
    "                                                                                                               'Indian': 'India',\n",
    "                                                                                                               'INDIAN': 'India',\n",
    "                                                                                                               'INDIA': 'India',\n",
    "                                                                                                               'india': 'India',\n",
    "                                                                                                               'Bharat': 'India',\n",
    "                                                                                                               'Delhi': 'India',\n",
    "                                                                                                               'Visakhapatnam':'India',\n",
    "                                                                                                               'pakistan': 'Pakistan',\n",
    "                                                                                                               'Lahore': 'Pakistan', \n",
    "                                                                                                               'Lahore, Pakistan': 'Pakistan',\n",
    "                                                                                                               'Pakistan Lahore': 'Pakistan',\n",
    "                                                                                                               'Punjab': 'India',\n",
    "                                                                                                               'Srilanka': 'Sri Lanka',\n",
    "                                                                                                               'Apartment': 'Canada',\n",
    "                                                                                                               'BD': 'Bangladesh',\n",
    "                                                                                                               'Male': 'Maldives',\n",
    "                                                                                                               'Malé': 'Maldives',\n",
    "                                                                                                               \"Male'\": 'Maldives',\n",
    "                                                                                                               'Urban': 'Bangladesh',\n",
    "                                                                                                               'USA': 'United States',\n",
    "                                                                                                               'Usa': 'United States',\n",
    "                                                                                                               'Lhaviyani': 'Maldives',\n",
    "                                                                                                               'UAE': 'United Arab Emirates',\n",
    "                                                                                                               'Asia': 'Pakistan',\n",
    "                                                                                                              '12 monthd': 'Pakistan',\n",
    "                                                                                                              'United Arab Emerites': 'United Arab Emirates'},) "
   ]
  },
  {
   "cell_type": "code",
   "execution_count": 24,
   "id": "04c3b76d-333c-409a-91fc-0b0064d2d5e2",
   "metadata": {},
   "outputs": [
    {
     "data": {
      "text/plain": [
       "array(['United Kingdom', 'Maldives', 'Malaysia', 'Sri Lanka',\n",
       "       'Kyrgyzstan', 'India', 'Singapore', 'United States', 'Bangladesh',\n",
       "       'Rwanda', 'Kaaf', 'Nepal', 'Scotland', 'Australia',\n",
       "       'United Arab Emirates', 'Canada', 'Germany', 'Pakistan'],\n",
       "      dtype=object)"
      ]
     },
     "execution_count": 24,
     "metadata": {},
     "output_type": "execute_result"
    }
   ],
   "source": [
    "mental_health_selected_df['Country of residence'].unique()"
   ]
  },
  {
   "cell_type": "code",
   "execution_count": 25,
   "id": "71f6fc39-baeb-4bfc-9d67-ecd4874b6f51",
   "metadata": {},
   "outputs": [
    {
     "data": {
      "text/plain": [
       "Country of residence\n",
       "Pakistan                166\n",
       "India                   151\n",
       "Maldives                126\n",
       "United Kingdom           23\n",
       "Bangladesh               20\n",
       "United States            11\n",
       "Nepal                     9\n",
       "Malaysia                  4\n",
       "Australia                 4\n",
       "Sri Lanka                 3\n",
       "Canada                    3\n",
       "Kyrgyzstan                2\n",
       "United Arab Emirates      2\n",
       "Singapore                 1\n",
       "Kaaf                      1\n",
       "Scotland                  1\n",
       "Germany                   1\n",
       "Rwanda                    1\n",
       "Name: count, dtype: int64"
      ]
     },
     "execution_count": 25,
     "metadata": {},
     "output_type": "execute_result"
    }
   ],
   "source": [
    "mental_health_selected_df['Country of residence'].value_counts()"
   ]
  },
  {
   "cell_type": "code",
   "execution_count": 26,
   "id": "120e5c0f-02a1-46dc-9918-375642cd8ebd",
   "metadata": {},
   "outputs": [
    {
     "data": {
      "text/plain": [
       "Nationality                                                                                                                                                               529\n",
       "Which South Asian heritage do you come from?                                                                                                                              523\n",
       "Country of residence                                                                                                                                                      529\n",
       "Formal Diagnosis                                                                                                                                                           66\n",
       "In your opinion, do you believe mental health conditions can be treated?-Yes                                                                                              396\n",
       "In your opinion, do you believe mental health conditions can be treated?-No                                                                                                16\n",
       "Have you ever experienced or witnessed stigma against person or people with a mental health condition? If you so could you please describe the incident. - Experienced    100\n",
       "Have you ever experienced or witnessed stigma against person or people with a mental health condition? If you so could you please describe the incident. - Witnessed      100\n",
       "dtype: int64"
      ]
     },
     "execution_count": 26,
     "metadata": {},
     "output_type": "execute_result"
    }
   ],
   "source": [
    "mental_health_selected_df.count()"
   ]
  },
  {
   "cell_type": "code",
   "execution_count": 27,
   "id": "0d2cb936-d3b7-4084-a397-2f31dfdf35f7",
   "metadata": {},
   "outputs": [
    {
     "data": {
      "text/html": [
       "<div>\n",
       "<style scoped>\n",
       "    .dataframe tbody tr th:only-of-type {\n",
       "        vertical-align: middle;\n",
       "    }\n",
       "\n",
       "    .dataframe tbody tr th {\n",
       "        vertical-align: top;\n",
       "    }\n",
       "\n",
       "    .dataframe thead th {\n",
       "        text-align: right;\n",
       "    }\n",
       "</style>\n",
       "<table border=\"1\" class=\"dataframe\">\n",
       "  <thead>\n",
       "    <tr style=\"text-align: right;\">\n",
       "      <th></th>\n",
       "      <th>Nationality</th>\n",
       "      <th>Which South Asian heritage do you come from?</th>\n",
       "      <th>Country of residence</th>\n",
       "      <th>Formal Diagnosis</th>\n",
       "      <th>In your opinion, do you believe mental health conditions can be treated?-Yes</th>\n",
       "      <th>In your opinion, do you believe mental health conditions can be treated?-No</th>\n",
       "      <th>Have you ever experienced or witnessed stigma against person or people with a mental health condition? If you so could you please describe the incident. - Experienced</th>\n",
       "      <th>Have you ever experienced or witnessed stigma against person or people with a mental health condition? If you so could you please describe the incident. - Witnessed</th>\n",
       "    </tr>\n",
       "  </thead>\n",
       "  <tbody>\n",
       "    <tr>\n",
       "      <th>0</th>\n",
       "      <td>Maldivian</td>\n",
       "      <td>Maldivian</td>\n",
       "      <td>United Kingdom</td>\n",
       "      <td>NaN</td>\n",
       "      <td>Yes, medical treatment, therapy</td>\n",
       "      <td>NaN</td>\n",
       "      <td>NaN</td>\n",
       "      <td>NaN</td>\n",
       "    </tr>\n",
       "    <tr>\n",
       "      <th>1</th>\n",
       "      <td>British</td>\n",
       "      <td>Maldivian</td>\n",
       "      <td>United Kingdom</td>\n",
       "      <td>NaN</td>\n",
       "      <td>Proper guidance from people around you. Afford...</td>\n",
       "      <td>NaN</td>\n",
       "      <td>NaN</td>\n",
       "      <td>NaN</td>\n",
       "    </tr>\n",
       "    <tr>\n",
       "      <th>2</th>\n",
       "      <td>Maldivian</td>\n",
       "      <td>Maldives</td>\n",
       "      <td>Maldives</td>\n",
       "      <td>NaN</td>\n",
       "      <td>Therapies and medications</td>\n",
       "      <td>NaN</td>\n",
       "      <td>NaN</td>\n",
       "      <td>Have seen relatives with mental health conditi...</td>\n",
       "    </tr>\n",
       "    <tr>\n",
       "      <th>3</th>\n",
       "      <td>Maldivian</td>\n",
       "      <td>Maldives</td>\n",
       "      <td>United Kingdom</td>\n",
       "      <td>GAD, panic disorder, clinical depression</td>\n",
       "      <td>NaN</td>\n",
       "      <td>They can be brought under control but not cured.</td>\n",
       "      <td>Was told to go off antidepressants because dep...</td>\n",
       "      <td>NaN</td>\n",
       "    </tr>\n",
       "    <tr>\n",
       "      <th>4</th>\n",
       "      <td>Maldivian</td>\n",
       "      <td>Maldivian</td>\n",
       "      <td>Maldives</td>\n",
       "      <td>C-PTSD</td>\n",
       "      <td>Appropriate behavioural therapy</td>\n",
       "      <td>NaN</td>\n",
       "      <td>Accused of seeking attention / exaggeration</td>\n",
       "      <td>NaN</td>\n",
       "    </tr>\n",
       "  </tbody>\n",
       "</table>\n",
       "</div>"
      ],
      "text/plain": [
       "  Nationality Which South Asian heritage do you come from?  \\\n",
       "0   Maldivian                                    Maldivian   \n",
       "1     British                                    Maldivian   \n",
       "2   Maldivian                                     Maldives   \n",
       "3   Maldivian                                     Maldives   \n",
       "4   Maldivian                                    Maldivian   \n",
       "\n",
       "  Country of residence                          Formal Diagnosis  \\\n",
       "0       United Kingdom                                       NaN   \n",
       "1       United Kingdom                                       NaN   \n",
       "2             Maldives                                       NaN   \n",
       "3       United Kingdom  GAD, panic disorder, clinical depression   \n",
       "4             Maldives                                    C-PTSD   \n",
       "\n",
       "  In your opinion, do you believe mental health conditions can be treated?-Yes  \\\n",
       "0                    Yes, medical treatment, therapy                             \n",
       "1  Proper guidance from people around you. Afford...                             \n",
       "2                          Therapies and medications                             \n",
       "3                                                NaN                             \n",
       "4                    Appropriate behavioural therapy                             \n",
       "\n",
       "  In your opinion, do you believe mental health conditions can be treated?-No  \\\n",
       "0                                                NaN                            \n",
       "1                                                NaN                            \n",
       "2                                                NaN                            \n",
       "3   They can be brought under control but not cured.                            \n",
       "4                                                NaN                            \n",
       "\n",
       "  Have you ever experienced or witnessed stigma against person or people with a mental health condition? If you so could you please describe the incident. - Experienced  \\\n",
       "0                                                NaN                                                                                                                       \n",
       "1                                                NaN                                                                                                                       \n",
       "2                                                NaN                                                                                                                       \n",
       "3  Was told to go off antidepressants because dep...                                                                                                                       \n",
       "4        Accused of seeking attention / exaggeration                                                                                                                       \n",
       "\n",
       "  Have you ever experienced or witnessed stigma against person or people with a mental health condition? If you so could you please describe the incident. - Witnessed  \n",
       "0                                                NaN                                                                                                                    \n",
       "1                                                NaN                                                                                                                    \n",
       "2  Have seen relatives with mental health conditi...                                                                                                                    \n",
       "3                                                NaN                                                                                                                    \n",
       "4                                                NaN                                                                                                                    "
      ]
     },
     "execution_count": 27,
     "metadata": {},
     "output_type": "execute_result"
    }
   ],
   "source": [
    "mental_health_selected_df.head()"
   ]
  },
  {
   "cell_type": "code",
   "execution_count": 28,
   "id": "082cd265-e1e4-498b-b76d-6c14f467f23d",
   "metadata": {},
   "outputs": [],
   "source": [
    "mental_health_selected_df = mental_health_selected_df[mental_health_selected_df['Country of residence'] != 'Kaaf']"
   ]
  },
  {
   "cell_type": "code",
   "execution_count": 29,
   "id": "a76c653d-f2cf-4fad-808b-4224e0856eec",
   "metadata": {
    "scrolled": true
   },
   "outputs": [
    {
     "data": {
      "text/plain": [
       "Country of residence\n",
       "Pakistan                166\n",
       "India                   151\n",
       "Maldives                126\n",
       "United Kingdom           23\n",
       "Bangladesh               20\n",
       "United States            11\n",
       "Nepal                     9\n",
       "Malaysia                  4\n",
       "Australia                 4\n",
       "Sri Lanka                 3\n",
       "Canada                    3\n",
       "Kyrgyzstan                2\n",
       "United Arab Emirates      2\n",
       "Singapore                 1\n",
       "Rwanda                    1\n",
       "Scotland                  1\n",
       "Germany                   1\n",
       "Name: count, dtype: int64"
      ]
     },
     "execution_count": 29,
     "metadata": {},
     "output_type": "execute_result"
    }
   ],
   "source": [
    "mental_health_selected_df['Country of residence'].value_counts()"
   ]
  },
  {
   "cell_type": "code",
   "execution_count": 30,
   "id": "758b53b1-e5dc-4f83-b8c5-632d4c46f9f8",
   "metadata": {},
   "outputs": [],
   "source": [
    "# Example boundaries for some countries\n",
    "country_bounds = {\n",
    "    \"Pakistan\": {\"lat_min\": 23.6345, \"lat_max\": 37.0841, \"lon_min\": 60.8728, \"lon_max\": 77.6572},\n",
    "    \"India\": {\"lat_min\": 6.4626, \"lat_max\": 37.284, \"lon_min\": 68.1166, \"lon_max\": 97.4026},\n",
    "    \"Maldives\": {\"lat_min\": -0.749, \"lat_max\": 7.100, \"lon_min\": 72.508, \"lon_max\": 73.707},\n",
    "    \"United Kingdom\": {\"lat_min\": 49.8642, \"lat_max\": 58.635, \"lon_min\": -8.649, \"lon_max\": 1.768},\n",
    "    \"Bangladesh\": {\"lat_min\": 20.250, \"lat_max\": 26.638, \"lon_min\": 88.041, \"lon_max\": 92.675},\n",
    "    \"United States\": {\"lat_min\": 24.396308, \"lat_max\": 49.384358, \"lon_min\": -125.0, \"lon_max\": -66.93457},\n",
    "    \"Nepal\": {\"lat_min\": 26.347, \"lat_max\": 30.447, \"lon_min\": 80.058, \"lon_max\": 88.201},\n",
    "    \"Malaysia\": {\"lat_min\": 1.1733, \"lat_max\": 7.3656, \"lon_min\": 101.999, \"lon_max\": 119.259},\n",
    "    \"Australia\": {\"lat_min\": -43.63459, \"lat_max\": -10.668185, \"lon_min\": 113.0, \"lon_max\": 153.0},\n",
    "    \"Sri Lanka\": {\"lat_min\": 5.875, \"lat_max\": 9.83, \"lon_min\": 79.958, \"lon_max\": 81.845},\n",
    "    \"Canada\": {\"lat_min\": 41.676555, \"lat_max\": 83.23324, \"lon_min\": -141.0, \"lon_max\": -52.648098},\n",
    "    \"Kyrgyzstan\": {\"lat_min\": 39.191, \"lat_max\": 42.757, \"lon_min\": 69.182, \"lon_max\": 80.248},\n",
    "    \"United Arab Emirates\": {\"lat_min\": 22.6349, \"lat_max\": 26.0881, \"lon_min\": 51.5833, \"lon_max\": 56.4136},\n",
    "    \"Singapore\": {\"lat_min\": 1.2604, \"lat_max\": 1.4691, \"lon_min\": 103.5704, \"lon_max\": 104.1245},\n",
    "    \"Rwanda\": {\"lat_min\": -2.511, \"lat_max\": -1.046, \"lon_min\": 29.9, \"lon_max\": 30.892},\n",
    "    \"Scotland\": {\"lat_min\": 54.6029, \"lat_max\": 60.8433, \"lon_min\": -5.437, \"lon_max\": -3.070},\n",
    "    \"Germany\": {\"lat_min\":47.2701, \"lat_max\": 55.0581, \"lon_min\": -15.0419, \"lon_max\": -5.8663}\n",
    "}\n"
   ]
  },
  {
   "cell_type": "code",
   "execution_count": 31,
   "id": "f29638da-a5c2-412a-abe4-5ef4e9dcf020",
   "metadata": {},
   "outputs": [],
   "source": [
    "import random\n",
    "\n",
    "def get_random_coords(country):\n",
    "    bounds = country_bounds.get(country)\n",
    "    if bounds:\n",
    "        lat = random.uniform(bounds['lat_min'], bounds['lat_max'])\n",
    "        lon = random.uniform(bounds['lon_min'], bounds['lon_max'])\n",
    "        return lat, lon\n",
    "    return None, None"
   ]
  },
  {
   "cell_type": "code",
   "execution_count": 32,
   "id": "56d241b4-0563-4a18-870a-6b44c6ac205c",
   "metadata": {},
   "outputs": [],
   "source": [
    "# Function to apply random coordinate generation\n",
    "def assign_random_coordinates(row):\n",
    "    country = row['Country of residence'] \n",
    "    lat, lon = get_random_coords(country)\n",
    "    return pd.Series([lat, lon])"
   ]
  },
  {
   "cell_type": "code",
   "execution_count": 33,
   "id": "84271d7f-039c-4d19-abd4-1f0d206eb1fd",
   "metadata": {},
   "outputs": [],
   "source": [
    "# Create new columns in the DataFrame\n",
    "mental_health_selected_df[['latitude', 'longitude']] = mental_health_selected_df.apply(assign_random_coordinates, axis=1)"
   ]
  },
  {
   "cell_type": "code",
   "execution_count": 34,
   "id": "e12093f6-ad51-4cdf-a3c3-6bb56628c792",
   "metadata": {},
   "outputs": [
    {
     "data": {
      "text/html": [
       "<div>\n",
       "<style scoped>\n",
       "    .dataframe tbody tr th:only-of-type {\n",
       "        vertical-align: middle;\n",
       "    }\n",
       "\n",
       "    .dataframe tbody tr th {\n",
       "        vertical-align: top;\n",
       "    }\n",
       "\n",
       "    .dataframe thead th {\n",
       "        text-align: right;\n",
       "    }\n",
       "</style>\n",
       "<table border=\"1\" class=\"dataframe\">\n",
       "  <thead>\n",
       "    <tr style=\"text-align: right;\">\n",
       "      <th></th>\n",
       "      <th>Nationality</th>\n",
       "      <th>Which South Asian heritage do you come from?</th>\n",
       "      <th>Country of residence</th>\n",
       "      <th>Formal Diagnosis</th>\n",
       "      <th>In your opinion, do you believe mental health conditions can be treated?-Yes</th>\n",
       "      <th>In your opinion, do you believe mental health conditions can be treated?-No</th>\n",
       "      <th>Have you ever experienced or witnessed stigma against person or people with a mental health condition? If you so could you please describe the incident. - Experienced</th>\n",
       "      <th>Have you ever experienced or witnessed stigma against person or people with a mental health condition? If you so could you please describe the incident. - Witnessed</th>\n",
       "      <th>latitude</th>\n",
       "      <th>longitude</th>\n",
       "    </tr>\n",
       "  </thead>\n",
       "  <tbody>\n",
       "    <tr>\n",
       "      <th>0</th>\n",
       "      <td>Maldivian</td>\n",
       "      <td>Maldivian</td>\n",
       "      <td>United Kingdom</td>\n",
       "      <td>NaN</td>\n",
       "      <td>Yes, medical treatment, therapy</td>\n",
       "      <td>NaN</td>\n",
       "      <td>NaN</td>\n",
       "      <td>NaN</td>\n",
       "      <td>53.459119</td>\n",
       "      <td>-8.321960</td>\n",
       "    </tr>\n",
       "    <tr>\n",
       "      <th>1</th>\n",
       "      <td>British</td>\n",
       "      <td>Maldivian</td>\n",
       "      <td>United Kingdom</td>\n",
       "      <td>NaN</td>\n",
       "      <td>Proper guidance from people around you. Afford...</td>\n",
       "      <td>NaN</td>\n",
       "      <td>NaN</td>\n",
       "      <td>NaN</td>\n",
       "      <td>58.550926</td>\n",
       "      <td>-6.346054</td>\n",
       "    </tr>\n",
       "    <tr>\n",
       "      <th>2</th>\n",
       "      <td>Maldivian</td>\n",
       "      <td>Maldives</td>\n",
       "      <td>Maldives</td>\n",
       "      <td>NaN</td>\n",
       "      <td>Therapies and medications</td>\n",
       "      <td>NaN</td>\n",
       "      <td>NaN</td>\n",
       "      <td>Have seen relatives with mental health conditi...</td>\n",
       "      <td>3.671997</td>\n",
       "      <td>72.613306</td>\n",
       "    </tr>\n",
       "    <tr>\n",
       "      <th>3</th>\n",
       "      <td>Maldivian</td>\n",
       "      <td>Maldives</td>\n",
       "      <td>United Kingdom</td>\n",
       "      <td>GAD, panic disorder, clinical depression</td>\n",
       "      <td>NaN</td>\n",
       "      <td>They can be brought under control but not cured.</td>\n",
       "      <td>Was told to go off antidepressants because dep...</td>\n",
       "      <td>NaN</td>\n",
       "      <td>53.549070</td>\n",
       "      <td>-2.407581</td>\n",
       "    </tr>\n",
       "    <tr>\n",
       "      <th>4</th>\n",
       "      <td>Maldivian</td>\n",
       "      <td>Maldivian</td>\n",
       "      <td>Maldives</td>\n",
       "      <td>C-PTSD</td>\n",
       "      <td>Appropriate behavioural therapy</td>\n",
       "      <td>NaN</td>\n",
       "      <td>Accused of seeking attention / exaggeration</td>\n",
       "      <td>NaN</td>\n",
       "      <td>4.122727</td>\n",
       "      <td>73.262993</td>\n",
       "    </tr>\n",
       "  </tbody>\n",
       "</table>\n",
       "</div>"
      ],
      "text/plain": [
       "  Nationality Which South Asian heritage do you come from?  \\\n",
       "0   Maldivian                                    Maldivian   \n",
       "1     British                                    Maldivian   \n",
       "2   Maldivian                                     Maldives   \n",
       "3   Maldivian                                     Maldives   \n",
       "4   Maldivian                                    Maldivian   \n",
       "\n",
       "  Country of residence                          Formal Diagnosis  \\\n",
       "0       United Kingdom                                       NaN   \n",
       "1       United Kingdom                                       NaN   \n",
       "2             Maldives                                       NaN   \n",
       "3       United Kingdom  GAD, panic disorder, clinical depression   \n",
       "4             Maldives                                    C-PTSD   \n",
       "\n",
       "  In your opinion, do you believe mental health conditions can be treated?-Yes  \\\n",
       "0                    Yes, medical treatment, therapy                             \n",
       "1  Proper guidance from people around you. Afford...                             \n",
       "2                          Therapies and medications                             \n",
       "3                                                NaN                             \n",
       "4                    Appropriate behavioural therapy                             \n",
       "\n",
       "  In your opinion, do you believe mental health conditions can be treated?-No  \\\n",
       "0                                                NaN                            \n",
       "1                                                NaN                            \n",
       "2                                                NaN                            \n",
       "3   They can be brought under control but not cured.                            \n",
       "4                                                NaN                            \n",
       "\n",
       "  Have you ever experienced or witnessed stigma against person or people with a mental health condition? If you so could you please describe the incident. - Experienced  \\\n",
       "0                                                NaN                                                                                                                       \n",
       "1                                                NaN                                                                                                                       \n",
       "2                                                NaN                                                                                                                       \n",
       "3  Was told to go off antidepressants because dep...                                                                                                                       \n",
       "4        Accused of seeking attention / exaggeration                                                                                                                       \n",
       "\n",
       "  Have you ever experienced or witnessed stigma against person or people with a mental health condition? If you so could you please describe the incident. - Witnessed  \\\n",
       "0                                                NaN                                                                                                                     \n",
       "1                                                NaN                                                                                                                     \n",
       "2  Have seen relatives with mental health conditi...                                                                                                                     \n",
       "3                                                NaN                                                                                                                     \n",
       "4                                                NaN                                                                                                                     \n",
       "\n",
       "    latitude  longitude  \n",
       "0  53.459119  -8.321960  \n",
       "1  58.550926  -6.346054  \n",
       "2   3.671997  72.613306  \n",
       "3  53.549070  -2.407581  \n",
       "4   4.122727  73.262993  "
      ]
     },
     "execution_count": 34,
     "metadata": {},
     "output_type": "execute_result"
    }
   ],
   "source": [
    "mental_health_selected_df.head()"
   ]
  },
  {
   "cell_type": "code",
   "execution_count": 35,
   "id": "7c2848a5-bf36-4e40-b9b0-cbfe03f32339",
   "metadata": {},
   "outputs": [],
   "source": [
    "# Save the updated DataFrame to a new CSV file\n",
    "mental_health_selected_df.to_csv('updated_data_with_random_coords.csv', index=False)"
   ]
  },
  {
   "cell_type": "code",
   "execution_count": 36,
   "id": "0529a478-a4a6-4d07-baf0-6d905222fe84",
   "metadata": {},
   "outputs": [
    {
     "name": "stdout",
     "output_type": "stream",
     "text": [
      "  Nationality Which South Asian heritage do you come from?  \\\n",
      "0   Maldivian                                    Maldivian   \n",
      "1     British                                    Maldivian   \n",
      "2   Maldivian                                     Maldives   \n",
      "3   Maldivian                                     Maldives   \n",
      "4   Maldivian                                    Maldivian   \n",
      "\n",
      "  Country of residence                          Formal Diagnosis  \\\n",
      "0       United Kingdom                                       NaN   \n",
      "1       United Kingdom                                       NaN   \n",
      "2             Maldives                                       NaN   \n",
      "3       United Kingdom  GAD, panic disorder, clinical depression   \n",
      "4             Maldives                                    C-PTSD   \n",
      "\n",
      "  In your opinion, do you believe mental health conditions can be treated?-Yes  \\\n",
      "0                    Yes, medical treatment, therapy                             \n",
      "1  Proper guidance from people around you. Afford...                             \n",
      "2                          Therapies and medications                             \n",
      "3                                                NaN                             \n",
      "4                    Appropriate behavioural therapy                             \n",
      "\n",
      "  In your opinion, do you believe mental health conditions can be treated?-No  \\\n",
      "0                                                NaN                            \n",
      "1                                                NaN                            \n",
      "2                                                NaN                            \n",
      "3   They can be brought under control but not cured.                            \n",
      "4                                                NaN                            \n",
      "\n",
      "  Have you ever experienced or witnessed stigma against person or people with a mental health condition? If you so could you please describe the incident. - Experienced  \\\n",
      "0                                                NaN                                                                                                                       \n",
      "1                                                NaN                                                                                                                       \n",
      "2                                                NaN                                                                                                                       \n",
      "3  Was told to go off antidepressants because dep...                                                                                                                       \n",
      "4        Accused of seeking attention / exaggeration                                                                                                                       \n",
      "\n",
      "  Have you ever experienced or witnessed stigma against person or people with a mental health condition? If you so could you please describe the incident. - Witnessed  \\\n",
      "0                                                NaN                                                                                                                     \n",
      "1                                                NaN                                                                                                                     \n",
      "2  Have seen relatives with mental health conditi...                                                                                                                     \n",
      "3                                                NaN                                                                                                                     \n",
      "4                                                NaN                                                                                                                     \n",
      "\n",
      "    latitude  longitude  \n",
      "0  53.459119  -8.321960  \n",
      "1  58.550926  -6.346054  \n",
      "2   3.671997  72.613306  \n",
      "3  53.549070  -2.407581  \n",
      "4   4.122727  73.262993  \n"
     ]
    }
   ],
   "source": [
    "# Optional: Display the updated DataFrame\n",
    "print(mental_health_selected_df.head())"
   ]
  },
  {
   "cell_type": "code",
   "execution_count": null,
   "id": "05a017c7-fe51-4fcd-82e1-d712ddcf0c38",
   "metadata": {},
   "outputs": [],
   "source": []
  }
 ],
 "metadata": {
  "kernelspec": {
   "display_name": "Python 3 (ipykernel)",
   "language": "python",
   "name": "python3"
  },
  "language_info": {
   "codemirror_mode": {
    "name": "ipython",
    "version": 3
   },
   "file_extension": ".py",
   "mimetype": "text/x-python",
   "name": "python",
   "nbconvert_exporter": "python",
   "pygments_lexer": "ipython3",
   "version": "3.12.4"
  }
 },
 "nbformat": 4,
 "nbformat_minor": 5
}
