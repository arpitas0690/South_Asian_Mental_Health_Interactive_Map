{
 "cells": [
  {
   "cell_type": "code",
   "execution_count": 1,
   "id": "eac2950a-37ca-4415-81b5-4eccad9fcb1d",
   "metadata": {},
   "outputs": [
    {
     "name": "stdout",
     "output_type": "stream",
     "text": [
      "Requirement already satisfied: pandas in c:\\users\\arpitas\\appdata\\local\\anaconda3\\lib\\site-packages (2.2.2)\n",
      "Requirement already satisfied: numpy in c:\\users\\arpitas\\appdata\\local\\anaconda3\\lib\\site-packages (1.26.4)\n",
      "Requirement already satisfied: python-dateutil>=2.8.2 in c:\\users\\arpitas\\appdata\\local\\anaconda3\\lib\\site-packages (from pandas) (2.9.0.post0)\n",
      "Requirement already satisfied: pytz>=2020.1 in c:\\users\\arpitas\\appdata\\local\\anaconda3\\lib\\site-packages (from pandas) (2024.1)\n",
      "Requirement already satisfied: tzdata>=2022.7 in c:\\users\\arpitas\\appdata\\local\\anaconda3\\lib\\site-packages (from pandas) (2023.3)\n",
      "Requirement already satisfied: six>=1.5 in c:\\users\\arpitas\\appdata\\local\\anaconda3\\lib\\site-packages (from python-dateutil>=2.8.2->pandas) (1.16.0)\n"
     ]
    }
   ],
   "source": [
    "#import dependencies\n",
    "import pandas as pd\n",
    "import geopandas as gpd\n",
    "from shapely.geometry import Point\n",
    "!pip install pandas numpy"
   ]
  },
  {
   "cell_type": "code",
   "execution_count": 2,
   "id": "1201bbc3-6414-4a0f-86b8-39a9f972f325",
   "metadata": {},
   "outputs": [],
   "source": [
    "#This is the file I am reading in for my analysis. \n",
    "mental_health_csv = \"./Resources/Conference and map Aishath Shahama Full PhD Study June 2022 to Dec 2023.csv\"\n",
    "country_csv = \"./Resources/country_long_lat_data.csv\""
   ]
  },
  {
   "cell_type": "code",
   "execution_count": 3,
   "id": "c9f6bb26-51dc-4751-8c0e-3a19e159e973",
   "metadata": {},
   "outputs": [],
   "source": [
    "#Pulling in the data here\n",
    "mental_health_df = pd.read_csv(mental_health_csv)\n",
    "country_df = pd.read_csv(country_csv)"
   ]
  },
  {
   "cell_type": "code",
   "execution_count": 4,
   "id": "24a9446b-7c19-4093-90e8-db1fd3b6adb0",
   "metadata": {},
   "outputs": [
    {
     "data": {
      "text/html": [
       "<div>\n",
       "<style scoped>\n",
       "    .dataframe tbody tr th:only-of-type {\n",
       "        vertical-align: middle;\n",
       "    }\n",
       "\n",
       "    .dataframe tbody tr th {\n",
       "        vertical-align: top;\n",
       "    }\n",
       "\n",
       "    .dataframe thead th {\n",
       "        text-align: right;\n",
       "    }\n",
       "</style>\n",
       "<table border=\"1\" class=\"dataframe\">\n",
       "  <thead>\n",
       "    <tr style=\"text-align: right;\">\n",
       "      <th></th>\n",
       "      <th>Religious Affliation</th>\n",
       "      <th>South Asian Heritage</th>\n",
       "      <th>Cause of Mental Health problems</th>\n",
       "      <th>Treatability</th>\n",
       "      <th>Treatments</th>\n",
       "      <th>Experience or Wittnessed stigma</th>\n",
       "      <th>Incident Description</th>\n",
       "    </tr>\n",
       "  </thead>\n",
       "  <tbody>\n",
       "    <tr>\n",
       "      <th>0</th>\n",
       "      <td>Islam</td>\n",
       "      <td>Maldives</td>\n",
       "      <td>Lifestyle and genetics.</td>\n",
       "      <td>No</td>\n",
       "      <td>They can be brought under control but not cured.</td>\n",
       "      <td>Experienced</td>\n",
       "      <td>Was told to go off antidepressants because dep...</td>\n",
       "    </tr>\n",
       "    <tr>\n",
       "      <th>1</th>\n",
       "      <td>NaN</td>\n",
       "      <td>Maldives</td>\n",
       "      <td>Genetics and mentality</td>\n",
       "      <td>No</td>\n",
       "      <td>NaN</td>\n",
       "      <td>Experienced</td>\n",
       "      <td>Annoying in time</td>\n",
       "    </tr>\n",
       "    <tr>\n",
       "      <th>2</th>\n",
       "      <td>Hindhu</td>\n",
       "      <td>India</td>\n",
       "      <td>Genetics</td>\n",
       "      <td>No</td>\n",
       "      <td>It's something you are born with</td>\n",
       "      <td>Experienced</td>\n",
       "      <td>NaN</td>\n",
       "    </tr>\n",
       "    <tr>\n",
       "      <th>3</th>\n",
       "      <td>Islam</td>\n",
       "      <td>Maldives</td>\n",
       "      <td>Genetics, environment and trauma</td>\n",
       "      <td>Yes</td>\n",
       "      <td>With medication, therapy and a lot of will power</td>\n",
       "      <td>Experienced</td>\n",
       "      <td>Yes</td>\n",
       "    </tr>\n",
       "    <tr>\n",
       "      <th>4</th>\n",
       "      <td>Islam</td>\n",
       "      <td>Maldives</td>\n",
       "      <td>Stress and uncertainty</td>\n",
       "      <td>Yes</td>\n",
       "      <td>Psychoherapy and psychopharmaceuticals</td>\n",
       "      <td>Experienced</td>\n",
       "      <td>When saying I am going to consult a Psychologi...</td>\n",
       "    </tr>\n",
       "  </tbody>\n",
       "</table>\n",
       "</div>"
      ],
      "text/plain": [
       "  Religious Affliation South Asian Heritage   Cause of Mental Health problems  \\\n",
       "0                Islam             Maldives           Lifestyle and genetics.   \n",
       "1                  NaN             Maldives            Genetics and mentality   \n",
       "2               Hindhu                India                          Genetics   \n",
       "3                Islam             Maldives  Genetics, environment and trauma   \n",
       "4                Islam             Maldives            Stress and uncertainty   \n",
       "\n",
       "  Treatability                                        Treatments  \\\n",
       "0           No  They can be brought under control but not cured.   \n",
       "1           No                                               NaN   \n",
       "2           No                  It's something you are born with   \n",
       "3          Yes  With medication, therapy and a lot of will power   \n",
       "4          Yes            Psychoherapy and psychopharmaceuticals   \n",
       "\n",
       "  Experience or Wittnessed stigma  \\\n",
       "0                     Experienced   \n",
       "1                     Experienced   \n",
       "2                     Experienced   \n",
       "3                     Experienced   \n",
       "4                     Experienced   \n",
       "\n",
       "                                Incident Description  \n",
       "0  Was told to go off antidepressants because dep...  \n",
       "1                                   Annoying in time  \n",
       "2                                                NaN  \n",
       "3                                                Yes  \n",
       "4  When saying I am going to consult a Psychologi...  "
      ]
     },
     "execution_count": 4,
     "metadata": {},
     "output_type": "execute_result"
    }
   ],
   "source": [
    "mental_health_df.head()"
   ]
  },
  {
   "cell_type": "code",
   "execution_count": 5,
   "id": "86a992ba-aa58-4fc0-a5c9-1af80713e641",
   "metadata": {},
   "outputs": [
    {
     "data": {
      "text/plain": [
       "Index(['Religious Affliation', 'South Asian Heritage',\n",
       "       'Cause of Mental Health problems', 'Treatability', 'Treatments',\n",
       "       'Experience or Wittnessed stigma', 'Incident Description'],\n",
       "      dtype='object')"
      ]
     },
     "execution_count": 5,
     "metadata": {},
     "output_type": "execute_result"
    }
   ],
   "source": [
    "mental_health_df.columns"
   ]
  },
  {
   "cell_type": "code",
   "execution_count": 11,
   "id": "702564ac-ffa3-4fc5-8e2f-ae85a95e30c4",
   "metadata": {},
   "outputs": [
    {
     "data": {
      "text/plain": [
       "Religious Affliation               509\n",
       "South Asian Heritage               523\n",
       "Cause of Mental Health problems    494\n",
       "Treatability                       523\n",
       "Treatments                         407\n",
       "Experience or Wittnessed stigma    521\n",
       "Incident Description               192\n",
       "dtype: int64"
      ]
     },
     "execution_count": 11,
     "metadata": {},
     "output_type": "execute_result"
    }
   ],
   "source": [
    "mental_health_df.count()"
   ]
  },
  {
   "cell_type": "code",
   "execution_count": 21,
   "id": "386a7480-b84e-465d-95b6-6d6c602f2f94",
   "metadata": {},
   "outputs": [
    {
     "data": {
      "text/plain": [
       "array(['Maldives', 'India', 'Pakistan', 'Nepal', 'Bangladesh',\n",
       "       'Afghanistan', 'Sri Lanka'], dtype=object)"
      ]
     },
     "execution_count": 21,
     "metadata": {},
     "output_type": "execute_result"
    }
   ],
   "source": [
    "#What were the responses to this question? \n",
    "mental_health_df['South Asian Heritage'].unique()"
   ]
  },
  {
   "cell_type": "code",
   "execution_count": 15,
   "id": "758b53b1-e5dc-4f83-b8c5-632d4c46f9f8",
   "metadata": {},
   "outputs": [],
   "source": [
    "# Boundaries for some countries\n",
    "country_bounds = {\n",
    "    \"Pakistan\": {\"lat_min\": 23.6345, \"lat_max\": 37.0841, \"lon_min\": 60.8728, \"lon_max\": 77.6572},\n",
    "    \"India\": {\"lat_min\": 6.4626, \"lat_max\": 37.284, \"lon_min\": 68.1166, \"lon_max\": 97.4026},\n",
    "    \"Maldives\": {\"lat_min\": -0.749, \"lat_max\": 7.100, \"lon_min\": 72.508, \"lon_max\": 73.707},\n",
    "    \"Bangladesh\": {\"lat_min\": 20.250, \"lat_max\": 26.638, \"lon_min\": 88.041, \"lon_max\": 92.675},\n",
    "    \"Nepal\": {\"lat_min\": 26.347, \"lat_max\": 30.447, \"lon_min\": 80.058, \"lon_max\": 88.201},\n",
    "    \"Sri Lanka\": {\"lat_min\": 5.875, \"lat_max\": 9.83, \"lon_min\": 79.958, \"lon_max\": 81.845},\n",
    "    \"Afghanistan\": {\"lat_min\": 29.30, \"lat_max\": 38.30, \"lon_min\": 61.31, \"lon_max\": 75.00}\n",
    "}\n",
    "\n"
   ]
  },
  {
   "cell_type": "code",
   "execution_count": 17,
   "id": "f29638da-a5c2-412a-abe4-5ef4e9dcf020",
   "metadata": {},
   "outputs": [],
   "source": [
    "import random\n",
    "\n",
    "def get_random_coords(country):\n",
    "    bounds = country_bounds.get(country)\n",
    "    if bounds:\n",
    "        lat = random.uniform(bounds['lat_min'], bounds['lat_max'])\n",
    "        lon = random.uniform(bounds['lon_min'], bounds['lon_max'])\n",
    "        return lat, lon\n",
    "    return None, None"
   ]
  },
  {
   "cell_type": "code",
   "execution_count": 19,
   "id": "56d241b4-0563-4a18-870a-6b44c6ac205c",
   "metadata": {},
   "outputs": [],
   "source": [
    "# Function to apply random coordinate generation\n",
    "def assign_random_coordinates(row):\n",
    "    country = row['South Asian Heritage'] \n",
    "    lat, lon = get_random_coords(country)\n",
    "    return pd.Series([lat, lon])"
   ]
  },
  {
   "cell_type": "code",
   "execution_count": 23,
   "id": "84271d7f-039c-4d19-abd4-1f0d206eb1fd",
   "metadata": {},
   "outputs": [],
   "source": [
    "# Create new columns in the DataFrame\n",
    "mental_health_df[['latitude', 'longitude']] = mental_health_df.apply(assign_random_coordinates, axis=1)"
   ]
  },
  {
   "cell_type": "code",
   "execution_count": 25,
   "id": "e12093f6-ad51-4cdf-a3c3-6bb56628c792",
   "metadata": {},
   "outputs": [
    {
     "data": {
      "text/html": [
       "<div>\n",
       "<style scoped>\n",
       "    .dataframe tbody tr th:only-of-type {\n",
       "        vertical-align: middle;\n",
       "    }\n",
       "\n",
       "    .dataframe tbody tr th {\n",
       "        vertical-align: top;\n",
       "    }\n",
       "\n",
       "    .dataframe thead th {\n",
       "        text-align: right;\n",
       "    }\n",
       "</style>\n",
       "<table border=\"1\" class=\"dataframe\">\n",
       "  <thead>\n",
       "    <tr style=\"text-align: right;\">\n",
       "      <th></th>\n",
       "      <th>Religious Affliation</th>\n",
       "      <th>South Asian Heritage</th>\n",
       "      <th>Cause of Mental Health problems</th>\n",
       "      <th>Treatability</th>\n",
       "      <th>Treatments</th>\n",
       "      <th>Experience or Wittnessed stigma</th>\n",
       "      <th>Incident Description</th>\n",
       "      <th>latitude</th>\n",
       "      <th>longitude</th>\n",
       "    </tr>\n",
       "  </thead>\n",
       "  <tbody>\n",
       "    <tr>\n",
       "      <th>0</th>\n",
       "      <td>Islam</td>\n",
       "      <td>Maldives</td>\n",
       "      <td>Lifestyle and genetics.</td>\n",
       "      <td>No</td>\n",
       "      <td>They can be brought under control but not cured.</td>\n",
       "      <td>Experienced</td>\n",
       "      <td>Was told to go off antidepressants because dep...</td>\n",
       "      <td>4.932196</td>\n",
       "      <td>72.562659</td>\n",
       "    </tr>\n",
       "    <tr>\n",
       "      <th>1</th>\n",
       "      <td>NaN</td>\n",
       "      <td>Maldives</td>\n",
       "      <td>Genetics and mentality</td>\n",
       "      <td>No</td>\n",
       "      <td>NaN</td>\n",
       "      <td>Experienced</td>\n",
       "      <td>Annoying in time</td>\n",
       "      <td>-0.308401</td>\n",
       "      <td>73.116975</td>\n",
       "    </tr>\n",
       "    <tr>\n",
       "      <th>2</th>\n",
       "      <td>Hindhu</td>\n",
       "      <td>India</td>\n",
       "      <td>Genetics</td>\n",
       "      <td>No</td>\n",
       "      <td>It's something you are born with</td>\n",
       "      <td>Experienced</td>\n",
       "      <td>NaN</td>\n",
       "      <td>29.257034</td>\n",
       "      <td>68.457540</td>\n",
       "    </tr>\n",
       "    <tr>\n",
       "      <th>3</th>\n",
       "      <td>Islam</td>\n",
       "      <td>Maldives</td>\n",
       "      <td>Genetics, environment and trauma</td>\n",
       "      <td>Yes</td>\n",
       "      <td>With medication, therapy and a lot of will power</td>\n",
       "      <td>Experienced</td>\n",
       "      <td>Yes</td>\n",
       "      <td>-0.462930</td>\n",
       "      <td>73.481464</td>\n",
       "    </tr>\n",
       "    <tr>\n",
       "      <th>4</th>\n",
       "      <td>Islam</td>\n",
       "      <td>Maldives</td>\n",
       "      <td>Stress and uncertainty</td>\n",
       "      <td>Yes</td>\n",
       "      <td>Psychoherapy and psychopharmaceuticals</td>\n",
       "      <td>Experienced</td>\n",
       "      <td>When saying I am going to consult a Psychologi...</td>\n",
       "      <td>6.891998</td>\n",
       "      <td>73.372696</td>\n",
       "    </tr>\n",
       "  </tbody>\n",
       "</table>\n",
       "</div>"
      ],
      "text/plain": [
       "  Religious Affliation South Asian Heritage   Cause of Mental Health problems  \\\n",
       "0                Islam             Maldives           Lifestyle and genetics.   \n",
       "1                  NaN             Maldives            Genetics and mentality   \n",
       "2               Hindhu                India                          Genetics   \n",
       "3                Islam             Maldives  Genetics, environment and trauma   \n",
       "4                Islam             Maldives            Stress and uncertainty   \n",
       "\n",
       "  Treatability                                        Treatments  \\\n",
       "0           No  They can be brought under control but not cured.   \n",
       "1           No                                               NaN   \n",
       "2           No                  It's something you are born with   \n",
       "3          Yes  With medication, therapy and a lot of will power   \n",
       "4          Yes            Psychoherapy and psychopharmaceuticals   \n",
       "\n",
       "  Experience or Wittnessed stigma  \\\n",
       "0                     Experienced   \n",
       "1                     Experienced   \n",
       "2                     Experienced   \n",
       "3                     Experienced   \n",
       "4                     Experienced   \n",
       "\n",
       "                                Incident Description   latitude  longitude  \n",
       "0  Was told to go off antidepressants because dep...   4.932196  72.562659  \n",
       "1                                   Annoying in time  -0.308401  73.116975  \n",
       "2                                                NaN  29.257034  68.457540  \n",
       "3                                                Yes  -0.462930  73.481464  \n",
       "4  When saying I am going to consult a Psychologi...   6.891998  73.372696  "
      ]
     },
     "execution_count": 25,
     "metadata": {},
     "output_type": "execute_result"
    }
   ],
   "source": [
    "mental_health_df.head()"
   ]
  },
  {
   "cell_type": "code",
   "execution_count": 27,
   "id": "7c2848a5-bf36-4e40-b9b0-cbfe03f32339",
   "metadata": {},
   "outputs": [],
   "source": [
    "# Save the updated DataFrame to a new CSV file\n",
    "mental_health_df.to_csv('SouthAsianMentalHealth_with_country_data.csv', index=False)"
   ]
  },
  {
   "cell_type": "code",
   "execution_count": 29,
   "id": "0529a478-a4a6-4d07-baf0-6d905222fe84",
   "metadata": {},
   "outputs": [
    {
     "name": "stdout",
     "output_type": "stream",
     "text": [
      "  Religious Affliation South Asian Heritage   Cause of Mental Health problems  \\\n",
      "0                Islam             Maldives           Lifestyle and genetics.   \n",
      "1                  NaN             Maldives            Genetics and mentality   \n",
      "2               Hindhu                India                          Genetics   \n",
      "3                Islam             Maldives  Genetics, environment and trauma   \n",
      "4                Islam             Maldives            Stress and uncertainty   \n",
      "\n",
      "  Treatability                                        Treatments  \\\n",
      "0           No  They can be brought under control but not cured.   \n",
      "1           No                                               NaN   \n",
      "2           No                  It's something you are born with   \n",
      "3          Yes  With medication, therapy and a lot of will power   \n",
      "4          Yes            Psychoherapy and psychopharmaceuticals   \n",
      "\n",
      "  Experience or Wittnessed stigma  \\\n",
      "0                     Experienced   \n",
      "1                     Experienced   \n",
      "2                     Experienced   \n",
      "3                     Experienced   \n",
      "4                     Experienced   \n",
      "\n",
      "                                Incident Description   latitude  longitude  \n",
      "0  Was told to go off antidepressants because dep...   4.932196  72.562659  \n",
      "1                                   Annoying in time  -0.308401  73.116975  \n",
      "2                                                NaN  29.257034  68.457540  \n",
      "3                                                Yes  -0.462930  73.481464  \n",
      "4  When saying I am going to consult a Psychologi...   6.891998  73.372696  \n"
     ]
    }
   ],
   "source": [
    "# Optional: Display the updated DataFrame\n",
    "print(mental_health_df.head())"
   ]
  },
  {
   "cell_type": "code",
   "execution_count": null,
   "id": "05a017c7-fe51-4fcd-82e1-d712ddcf0c38",
   "metadata": {},
   "outputs": [],
   "source": []
  },
  {
   "cell_type": "code",
   "execution_count": null,
   "id": "78a4ced0-0907-40d1-87f2-b44e770c24a5",
   "metadata": {},
   "outputs": [],
   "source": []
  },
  {
   "cell_type": "code",
   "execution_count": null,
   "id": "b7f1f024-5ea7-48d3-8f8f-d13e20032181",
   "metadata": {},
   "outputs": [],
   "source": []
  }
 ],
 "metadata": {
  "kernelspec": {
   "display_name": "Python 3 (ipykernel)",
   "language": "python",
   "name": "python3"
  },
  "language_info": {
   "codemirror_mode": {
    "name": "ipython",
    "version": 3
   },
   "file_extension": ".py",
   "mimetype": "text/x-python",
   "name": "python",
   "nbconvert_exporter": "python",
   "pygments_lexer": "ipython3",
   "version": "3.12.4"
  }
 },
 "nbformat": 4,
 "nbformat_minor": 5
}
